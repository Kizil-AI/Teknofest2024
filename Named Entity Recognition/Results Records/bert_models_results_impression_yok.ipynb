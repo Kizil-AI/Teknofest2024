{
 "cells": [
  {
   "cell_type": "markdown",
   "metadata": {},
   "source": [
    "# BERT models"
   ]
  },
  {
   "cell_type": "markdown",
   "metadata": {},
   "source": [
    "## Training Args\n",
    "\n",
    "args = TrainingArguments(\n",
    "\"test-ner\",\n",
    "evaluation_strategy = \"epoch\",\n",
    "learning_rate=1e-4,\n",
    "per_device_train_batch_size=32,\n",
    "per_device_eval_batch_size=32,\n",
    "num_train_epochs=20,\n",
    "weight_decay=0.01,\n",
    "save_strategy=\"epoch\",\n",
    "save_total_limit=2,  # Limit the total amount of checkpoints\n",
    "greater_is_better=True,\n",
    "metric_for_best_model=\"eval_f1\",\n",
    "load_best_model_at_end=True,\n",
    ")"
   ]
  },
  {
   "cell_type": "markdown",
   "metadata": {},
   "source": [
    "## dbmdz/convbert-base-turkish-cased\n",
    "\n",
    "{'eval_loss': 0.549272894859314,\n",
    " 'eval_precision': 0.8033067274800456,\n",
    " 'eval_recall': 0.8565349544072949,\n",
    " 'eval_f1': 0.8290673727566932,\n",
    " 'eval_accuracy': 0.8819493068197731,\n",
    " 'eval_runtime': 2.0414,\n",
    " 'eval_samples_per_second': 122.467,\n",
    " 'eval_steps_per_second': 3.919,\n",
    " 'epoch': 20.0}"
   ]
  },
  {
   "cell_type": "markdown",
   "metadata": {},
   "source": [
    "## savasy/bert-base-turkish-ner-cased\n",
    "\n",
    "{'eval_loss': 0.4799998998641968,\n",
    " 'eval_precision': 0.7933701657458564,\n",
    " 'eval_recall': 0.8729483282674773,\n",
    " **'eval_f1': 0.8312590448625181,**\n",
    " 'eval_accuracy': 0.8810810810810811,\n",
    " 'eval_runtime': 1.893,\n",
    " 'eval_samples_per_second': 132.066,\n",
    " 'eval_steps_per_second': 4.226,\n",
    " 'epoch': 20.0}"
   ]
  },
  {
   "cell_type": "markdown",
   "metadata": {},
   "source": [
    "## dbmdz/convbert-base-turkish-mc4-cased\n",
    "\n",
    "{'eval_loss': 0.44781357049942017,\n",
    " 'eval_precision': 0.7788724685276409,\n",
    " 'eval_recall': 0.8650455927051671,\n",
    " 'eval_f1': 0.8197004608294931,\n",
    " 'eval_accuracy': 0.8751995518834897,\n",
    " 'eval_runtime': 2.0405,\n",
    " 'eval_samples_per_second': 122.521,\n",
    " 'eval_steps_per_second': 3.921,\n",
    " 'epoch': 20.0}"
   ]
  },
  {
   "cell_type": "markdown",
   "metadata": {},
   "source": [
    "## dbmdz/bert-base-turkish-cased\n",
    "\n",
    "{'eval_loss': 0.6392366886138916,\n",
    " 'eval_precision': 0.7851193781232648,\n",
    " 'eval_recall': 0.8595744680851064,\n",
    " 'eval_f1': 0.8206616366802091,\n",
    " 'eval_accuracy': 0.885674275311581,\n",
    " 'eval_runtime': 1.8893,\n",
    " 'eval_samples_per_second': 132.322,\n",
    " 'eval_steps_per_second': 4.234,\n",
    " 'epoch': 20.0}"
   ]
  },
  {
   "cell_type": "markdown",
   "metadata": {},
   "source": [
    "## dbmdz/distilbert-base-turkish-cased\n",
    "\n",
    "{'eval_loss': 0.49575626850128174,\n",
    " 'eval_precision': 0.7554704595185996,\n",
    " 'eval_recall': 0.8395136778115502,\n",
    " 'eval_f1': 0.7952778577598618,\n",
    " 'eval_accuracy': 0.8821453577930262,\n",
    " 'eval_runtime': 1.5551,\n",
    " 'eval_samples_per_second': 160.758,\n",
    " 'eval_steps_per_second': 5.144,\n",
    " 'epoch': 20.0}"
   ]
  },
  {
   "cell_type": "markdown",
   "metadata": {},
   "source": [
    "## Buseak/penn_berturk_0203_v5\n",
    "\n",
    "{'eval_loss': 0.6087801456451416,\n",
    " 'eval_precision': 0.7931995540691192,\n",
    " 'eval_recall': 0.8650455927051671,\n",
    " 'eval_f1': 0.8275661529514392,\n",
    " 'eval_accuracy': 0.8877748214535779,\n",
    " 'eval_runtime': 1.9176,\n",
    " 'eval_samples_per_second': 130.37,\n",
    " 'eval_steps_per_second': 4.172,\n",
    " 'epoch': 20.0}"
   ]
  },
  {
   "cell_type": "markdown",
   "metadata": {},
   "source": [
    "## Buseak/model_from_berturk_Feb_5_TrainTestSplit\n",
    "\n",
    "{'eval_loss': 0.4430540204048157,\n",
    " 'eval_precision': 0.7747014115092291,\n",
    " 'eval_recall': 0.8674772036474164,\n",
    " 'eval_f1': 0.8184685976484084,\n",
    " 'eval_accuracy': 0.882313401484386,\n",
    " 'eval_runtime': 1.8931,\n",
    " 'eval_samples_per_second': 132.061,\n",
    " 'eval_steps_per_second': 4.226,\n",
    " 'epoch': 20.0}"
   ]
  },
  {
   "cell_type": "markdown",
   "metadata": {},
   "source": [
    "## alierenak/berturk_cased_ner\n",
    "\n",
    "{'eval_loss': 0.5963878631591797,\n",
    " 'eval_precision': 0.7979741136747327,\n",
    " 'eval_recall': 0.8620060790273556,\n",
    " 'eval_f1': 0.8287551139684396,\n",
    " 'eval_accuracy': 0.8835737291695841,\n",
    " 'eval_runtime': 1.9006,\n",
    " 'eval_samples_per_second': 131.54,\n",
    " 'eval_steps_per_second': 4.209,\n",
    " 'epoch': 20.0}"
   ]
  },
  {
   "cell_type": "markdown",
   "metadata": {},
   "source": [
    "## ENSEMBLE\n",
    "\n",
    "coef_list = [0.19216606883690696, 0.05711875976084878, 0.16041094677313425, 0.11216093956033371, 0.2100303430740878, 0.0997232508298396, 0.0915565359309, 0.07683315523394867]\n",
    "\n",
    "{'precision': 0.8145251396648044, 'recall': 0.886322188449848, 'f1': 0.8489082969432314, 'accuracy': 0.8925360593754376}"
   ]
  },
  {
   "cell_type": "markdown",
   "metadata": {},
   "source": [
    "## Hardcoded'la Ensemble\n",
    "\n",
    "coef_list = [0.17709629284391482, 0.02316043533550194, 0.17670247045798992, 0.08821814242487214, 0.21198362794764802, 0.14390047581430998, 0.049497930441121885, 0.09655021592880159, 0.03289040880583982]\n",
    "\n",
    "{'precision': 0.8129536571747628, 'recall': 0.8851063829787233, 'f1': 0.8474970896391152, 'accuracy': 0.892676095784904}"
   ]
  },
  {
   "cell_type": "markdown",
   "metadata": {},
   "source": [
    "# LLMs"
   ]
  },
  {
   "cell_type": "markdown",
   "metadata": {},
   "source": [
    "## Training args\n",
    "\n",
    "training_args = TrainingArguments(\n",
    "    \"test-ner\",\n",
    "    evaluation_strategy=\"epoch\",\n",
    "    learning_rate=1e-4,\n",
    "    per_device_train_batch_size=8,\n",
    "    per_device_eval_batch_size=8,\n",
    "    num_train_epochs=20,\n",
    "    weight_decay=0.01,\n",
    "    logging_strategy=\"steps\",\n",
    "    logging_steps=10,\n",
    "    report_to=\"none\",\n",
    "    save_strategy=\"epoch\",\n",
    "    save_total_limit=2,  # Limit the total amount of checkpoints\n",
    "    greater_is_better=True,\n",
    "    metric_for_best_model=\"eval_f1\",\n",
    "    load_best_model_at_end=True,\n",
    ")"
   ]
  },
  {
   "cell_type": "markdown",
   "metadata": {},
   "source": [
    "## google-t5/t5-base\n",
    "\n",
    "{'eval_f1': 0.813686026451984,\n",
    " 'eval_loss': 1.3291279077529907,\n",
    " 'eval_precision': 0.7719585379159847,\n",
    " 'eval_recall': 0.8601823708206687,\n",
    " 'eval_accuracy': 0.8878481804216909,\n",
    " 'eval_runtime': 7.0013,\n",
    " 'eval_samples_per_second': 35.708,\n",
    " 'eval_steps_per_second': 4.571}"
   ]
  },
  {
   "cell_type": "markdown",
   "metadata": {},
   "source": [
    "## google-t5/t5-large\n",
    "\n",
    "{'eval_f1': 0.8098089535215285,\n",
    " 'eval_loss': 0.5259455442428589,\n",
    " 'eval_precision': 0.7626208378088077,\n",
    " 'eval_recall': 0.8632218844984803,\n",
    " 'eval_accuracy': 0.8855099849104825,\n",
    " 'eval_runtime': 14.2506,\n",
    " 'eval_samples_per_second': 17.543,\n",
    " 'eval_steps_per_second': 2.246}"
   ]
  },
  {
   "cell_type": "markdown",
   "metadata": {},
   "source": [
    "## ENSEMBLE\n",
    "\n",
    "coef_list = [0.529,0.471]\n",
    "\n",
    "{'precision': 0.7962243198223209, 'recall': 0.8717325227963526, 'f1': 0.8322692977365062, 'accuracy': 0.8906757656910591}"
   ]
  }
 ],
 "metadata": {
  "language_info": {
   "name": "python"
  }
 },
 "nbformat": 4,
 "nbformat_minor": 2
}
