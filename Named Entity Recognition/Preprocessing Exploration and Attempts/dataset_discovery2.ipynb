{
 "cells": [
  {
   "cell_type": "code",
   "execution_count": 1,
   "metadata": {},
   "outputs": [],
   "source": [
    "DATA_PATH_JSON = \"./NLP-Teknofest24/NLPJSON/\"\n",
    "DATA_PATH_TXT = \"./NLP-Teknofest24/NLPTXT-1028 Etiketlenen Raporlar/\""
   ]
  },
  {
   "cell_type": "code",
   "execution_count": 2,
   "metadata": {},
   "outputs": [],
   "source": [
    "import json\n",
    "d_list = list()\n",
    "for i in range(1,5):\n",
    "    with open(DATA_PATH_JSON+str(i)+\"/all.jsonl\",'r', encoding=\"utf-8\") as f:\n",
    "        for a in f.readlines():\n",
    "            d_list.append(json.loads(a))"
   ]
  },
  {
   "cell_type": "code",
   "execution_count": 3,
   "metadata": {},
   "outputs": [],
   "source": [
    "import pandas as pd\n",
    "import numpy as np\n",
    "import re\n",
    "import random"
   ]
  },
  {
   "cell_type": "code",
   "execution_count": 4,
   "metadata": {},
   "outputs": [],
   "source": [
    "meta_data = pd.DataFrame(d_list)"
   ]
  },
  {
   "cell_type": "code",
   "execution_count": 5,
   "metadata": {},
   "outputs": [],
   "source": [
    "meta_data = meta_data.drop([\"Comments\",\"id\"],axis=1)"
   ]
  },
  {
   "cell_type": "code",
   "execution_count": 6,
   "metadata": {},
   "outputs": [
    {
     "data": {
      "text/html": [
       "<div>\n",
       "<style scoped>\n",
       "    .dataframe tbody tr th:only-of-type {\n",
       "        vertical-align: middle;\n",
       "    }\n",
       "\n",
       "    .dataframe tbody tr th {\n",
       "        vertical-align: top;\n",
       "    }\n",
       "\n",
       "    .dataframe thead th {\n",
       "        text-align: right;\n",
       "    }\n",
       "</style>\n",
       "<table border=\"1\" class=\"dataframe\">\n",
       "  <thead>\n",
       "    <tr style=\"text-align: right;\">\n",
       "      <th></th>\n",
       "      <th>text</th>\n",
       "      <th>label</th>\n",
       "    </tr>\n",
       "  </thead>\n",
       "  <tbody>\n",
       "    <tr>\n",
       "      <th>0</th>\n",
       "      <td>BİLATERAL MAMOGRAFİ İNCELEMESİ:\\nHer iki memen...</td>\n",
       "      <td>[[32, 47, ANAT], [48, 59, ANAT], [60, 66, OBS-...</td>\n",
       "    </tr>\n",
       "    <tr>\n",
       "      <th>1</th>\n",
       "      <td>BİLATERAL MAMOGRAFİ İNCELEMESİNDE; \\nBilateral...</td>\n",
       "      <td>[[36, 50, ANAT], [51, 65, ANAT], [66, 75, OBS-...</td>\n",
       "    </tr>\n",
       "    <tr>\n",
       "      <th>2</th>\n",
       "      <td>BİLATERAL MAMOGRAFİ İNCELEMESİ\\nBilateral meme...</td>\n",
       "      <td>[[31, 45, ANAT], [46, 60, ANAT], [61, 71, OBS-...</td>\n",
       "    </tr>\n",
       "    <tr>\n",
       "      <th>3</th>\n",
       "      <td>BİLATERAL MAMOGRAFİ İNCELEMESİ\\nHer iki memede...</td>\n",
       "      <td>[[31, 45, ANAT], [46, 70, ANAT], [71, 78, ANAT...</td>\n",
       "    </tr>\n",
       "    <tr>\n",
       "      <th>4</th>\n",
       "      <td>BİLATERAL MAMOGRAFİ İNCELEMESİ:\\nHer iki meme ...</td>\n",
       "      <td>[[32, 44, ANAT], [45, 59, ANAT], [60, 65, OBS-...</td>\n",
       "    </tr>\n",
       "    <tr>\n",
       "      <th>...</th>\n",
       "      <td>...</td>\n",
       "      <td>...</td>\n",
       "    </tr>\n",
       "    <tr>\n",
       "      <th>1023</th>\n",
       "      <td>Unilateral Mammografi incelemesinde;\\nSağ meme...</td>\n",
       "      <td>[[37, 45, ANAT], [45, 55, ANAT], [56, 61, OBS-...</td>\n",
       "    </tr>\n",
       "    <tr>\n",
       "      <th>1024</th>\n",
       "      <td>UNİLATERAL MAMOGRAFİ İNCELEMESİ\\nSağ meme cilt...</td>\n",
       "      <td>[[32, 40, ANAT], [41, 55, ANAT], [56, 65, OBS-...</td>\n",
       "    </tr>\n",
       "    <tr>\n",
       "      <th>1025</th>\n",
       "      <td>UNİLATERAL MAMOGRAFİ İNCELEMESİ\\nSağ meme cild...</td>\n",
       "      <td>[[32, 40, ANAT], [41, 46, ANAT], [47, 54, OBS-...</td>\n",
       "    </tr>\n",
       "    <tr>\n",
       "      <th>1026</th>\n",
       "      <td>UNİLATERAL MAMOGRAFİ İNCELEMESİ\\nSol meme cilt...</td>\n",
       "      <td>[[32, 40, ANAT], [41, 55, ANAT], [56, 62, OBS-...</td>\n",
       "    </tr>\n",
       "    <tr>\n",
       "      <th>1027</th>\n",
       "      <td>UNİLATERAL DİGİTAL MAMOGRAFİ İNCELEMESİ\\nSol m...</td>\n",
       "      <td>[[40, 49, ANAT], [67, 73, OBS-PRESENT], [73, 9...</td>\n",
       "    </tr>\n",
       "  </tbody>\n",
       "</table>\n",
       "<p>1028 rows × 2 columns</p>\n",
       "</div>"
      ],
      "text/plain": [
       "                                                   text  \\\n",
       "0     BİLATERAL MAMOGRAFİ İNCELEMESİ:\\nHer iki memen...   \n",
       "1     BİLATERAL MAMOGRAFİ İNCELEMESİNDE; \\nBilateral...   \n",
       "2     BİLATERAL MAMOGRAFİ İNCELEMESİ\\nBilateral meme...   \n",
       "3     BİLATERAL MAMOGRAFİ İNCELEMESİ\\nHer iki memede...   \n",
       "4     BİLATERAL MAMOGRAFİ İNCELEMESİ:\\nHer iki meme ...   \n",
       "...                                                 ...   \n",
       "1023  Unilateral Mammografi incelemesinde;\\nSağ meme...   \n",
       "1024  UNİLATERAL MAMOGRAFİ İNCELEMESİ\\nSağ meme cilt...   \n",
       "1025  UNİLATERAL MAMOGRAFİ İNCELEMESİ\\nSağ meme cild...   \n",
       "1026  UNİLATERAL MAMOGRAFİ İNCELEMESİ\\nSol meme cilt...   \n",
       "1027  UNİLATERAL DİGİTAL MAMOGRAFİ İNCELEMESİ\\nSol m...   \n",
       "\n",
       "                                                  label  \n",
       "0     [[32, 47, ANAT], [48, 59, ANAT], [60, 66, OBS-...  \n",
       "1     [[36, 50, ANAT], [51, 65, ANAT], [66, 75, OBS-...  \n",
       "2     [[31, 45, ANAT], [46, 60, ANAT], [61, 71, OBS-...  \n",
       "3     [[31, 45, ANAT], [46, 70, ANAT], [71, 78, ANAT...  \n",
       "4     [[32, 44, ANAT], [45, 59, ANAT], [60, 65, OBS-...  \n",
       "...                                                 ...  \n",
       "1023  [[37, 45, ANAT], [45, 55, ANAT], [56, 61, OBS-...  \n",
       "1024  [[32, 40, ANAT], [41, 55, ANAT], [56, 65, OBS-...  \n",
       "1025  [[32, 40, ANAT], [41, 46, ANAT], [47, 54, OBS-...  \n",
       "1026  [[32, 40, ANAT], [41, 55, ANAT], [56, 62, OBS-...  \n",
       "1027  [[40, 49, ANAT], [67, 73, OBS-PRESENT], [73, 9...  \n",
       "\n",
       "[1028 rows x 2 columns]"
      ]
     },
     "execution_count": 6,
     "metadata": {},
     "output_type": "execute_result"
    }
   ],
   "source": [
    "meta_data"
   ]
  },
  {
   "cell_type": "code",
   "execution_count": 7,
   "metadata": {},
   "outputs": [],
   "source": [
    "from sklearn.model_selection import train_test_split"
   ]
  },
  {
   "cell_type": "code",
   "execution_count": 9,
   "metadata": {},
   "outputs": [],
   "source": [
    "# First split: Train+Validation and Test\n",
    "train_val_df, test_df = train_test_split(meta_data, test_size=250, random_state=42)\n",
    "\n",
    "# Second split: Train and Validation\n",
    "train_df, val_df = train_test_split(train_val_df, test_size=0.25, random_state=42)"
   ]
  },
  {
   "cell_type": "code",
   "execution_count": 10,
   "metadata": {},
   "outputs": [
    {
     "data": {
      "text/html": [
       "<div>\n",
       "<style scoped>\n",
       "    .dataframe tbody tr th:only-of-type {\n",
       "        vertical-align: middle;\n",
       "    }\n",
       "\n",
       "    .dataframe tbody tr th {\n",
       "        vertical-align: top;\n",
       "    }\n",
       "\n",
       "    .dataframe thead th {\n",
       "        text-align: right;\n",
       "    }\n",
       "</style>\n",
       "<table border=\"1\" class=\"dataframe\">\n",
       "  <thead>\n",
       "    <tr style=\"text-align: right;\">\n",
       "      <th></th>\n",
       "      <th>text</th>\n",
       "      <th>label</th>\n",
       "    </tr>\n",
       "  </thead>\n",
       "  <tbody>\n",
       "    <tr>\n",
       "      <th>73</th>\n",
       "      <td>BİLATERAL MAMOGRAFİ İNCELEMESİ\\nBilateral meme...</td>\n",
       "      <td>[[31, 40, ANAT], [41, 45, ANAT], [46, 60, ANAT...</td>\n",
       "    </tr>\n",
       "    <tr>\n",
       "      <th>541</th>\n",
       "      <td>BİLATERAL MAMOGRAFİ İNCELEMESİ\\nMeme parankimi...</td>\n",
       "      <td>[[31, 45, ANAT], [46, 55, OBS-PRESENT], [61, 6...</td>\n",
       "    </tr>\n",
       "    <tr>\n",
       "      <th>454</th>\n",
       "      <td>BİLATERAL MAMOGRAFİ İNCELEMESİ:\\nHer iki memey...</td>\n",
       "      <td>[[83, 95, ANAT], [96, 118, OBS-PRESENT], [120,...</td>\n",
       "    </tr>\n",
       "    <tr>\n",
       "      <th>855</th>\n",
       "      <td>BİLATERAL MAMOGRAFİ İNCELEMESİ\\nBilateral meme...</td>\n",
       "      <td>[[31, 46, ANAT], [46, 60, ANAT], [61, 71, OBS-...</td>\n",
       "    </tr>\n",
       "    <tr>\n",
       "      <th>61</th>\n",
       "      <td>BİLATERAL MAMOGRAFİ İNCELEMESİ\\t\\nBilateral me...</td>\n",
       "      <td>[[32, 46, ANAT], [46, 61, ANAT], [62, 71, OBS-...</td>\n",
       "    </tr>\n",
       "    <tr>\n",
       "      <th>...</th>\n",
       "      <td>...</td>\n",
       "      <td>...</td>\n",
       "    </tr>\n",
       "    <tr>\n",
       "      <th>177</th>\n",
       "      <td>BİLATERAL MAMOGRAFİ İNCELEMESİ\\nHer iki meme p...</td>\n",
       "      <td>[[31, 38, ANAT], [39, 43, ANAT], [44, 60, ANAT...</td>\n",
       "    </tr>\n",
       "    <tr>\n",
       "      <th>529</th>\n",
       "      <td>BİLATERAL MAMOGRAFİ İNCELEMESİ\\nHer iki meme c...</td>\n",
       "      <td>[[31, 43, ANAT], [44, 58, ANAT], [59, 64, OBS-...</td>\n",
       "    </tr>\n",
       "    <tr>\n",
       "      <th>396</th>\n",
       "      <td>BİLATERAL MAMOGRAFİ İNCELEMESİ \\nMeme paterni ...</td>\n",
       "      <td>[[32, 44, ANAT], [45, 57, OBS-PRESENT], [58, 7...</td>\n",
       "    </tr>\n",
       "    <tr>\n",
       "      <th>680</th>\n",
       "      <td>BİLATERAL MAMOGRAFİ İNCELEMESİ\\nHer iki memede...</td>\n",
       "      <td>[[31, 45, ANAT], [46, 63, ANAT], [64, 73, ANAT...</td>\n",
       "    </tr>\n",
       "    <tr>\n",
       "      <th>148</th>\n",
       "      <td>BİLATERAL MAMOGRAFİ İNCELEMESİ\\t\\t\\nBilateral ...</td>\n",
       "      <td>[[33, 42, ANAT], [43, 48, ANAT], [48, 62, ANAT...</td>\n",
       "    </tr>\n",
       "  </tbody>\n",
       "</table>\n",
       "<p>583 rows × 2 columns</p>\n",
       "</div>"
      ],
      "text/plain": [
       "                                                  text  \\\n",
       "73   BİLATERAL MAMOGRAFİ İNCELEMESİ\\nBilateral meme...   \n",
       "541  BİLATERAL MAMOGRAFİ İNCELEMESİ\\nMeme parankimi...   \n",
       "454  BİLATERAL MAMOGRAFİ İNCELEMESİ:\\nHer iki memey...   \n",
       "855  BİLATERAL MAMOGRAFİ İNCELEMESİ\\nBilateral meme...   \n",
       "61   BİLATERAL MAMOGRAFİ İNCELEMESİ\\t\\nBilateral me...   \n",
       "..                                                 ...   \n",
       "177  BİLATERAL MAMOGRAFİ İNCELEMESİ\\nHer iki meme p...   \n",
       "529  BİLATERAL MAMOGRAFİ İNCELEMESİ\\nHer iki meme c...   \n",
       "396  BİLATERAL MAMOGRAFİ İNCELEMESİ \\nMeme paterni ...   \n",
       "680  BİLATERAL MAMOGRAFİ İNCELEMESİ\\nHer iki memede...   \n",
       "148  BİLATERAL MAMOGRAFİ İNCELEMESİ\\t\\t\\nBilateral ...   \n",
       "\n",
       "                                                 label  \n",
       "73   [[31, 40, ANAT], [41, 45, ANAT], [46, 60, ANAT...  \n",
       "541  [[31, 45, ANAT], [46, 55, OBS-PRESENT], [61, 6...  \n",
       "454  [[83, 95, ANAT], [96, 118, OBS-PRESENT], [120,...  \n",
       "855  [[31, 46, ANAT], [46, 60, ANAT], [61, 71, OBS-...  \n",
       "61   [[32, 46, ANAT], [46, 61, ANAT], [62, 71, OBS-...  \n",
       "..                                                 ...  \n",
       "177  [[31, 38, ANAT], [39, 43, ANAT], [44, 60, ANAT...  \n",
       "529  [[31, 43, ANAT], [44, 58, ANAT], [59, 64, OBS-...  \n",
       "396  [[32, 44, ANAT], [45, 57, OBS-PRESENT], [58, 7...  \n",
       "680  [[31, 45, ANAT], [46, 63, ANAT], [64, 73, ANAT...  \n",
       "148  [[33, 42, ANAT], [43, 48, ANAT], [48, 62, ANAT...  \n",
       "\n",
       "[583 rows x 2 columns]"
      ]
     },
     "execution_count": 10,
     "metadata": {},
     "output_type": "execute_result"
    }
   ],
   "source": [
    "train_df"
   ]
  },
  {
   "cell_type": "code",
   "execution_count": 13,
   "metadata": {},
   "outputs": [],
   "source": [
    "import re\n",
    "\n",
    "def remove_redundant_spaces_regex(text: str) -> str:\n",
    "  return re.sub(r\"\\s+\", \" \", text)"
   ]
  },
  {
   "cell_type": "code",
   "execution_count": 14,
   "metadata": {},
   "outputs": [],
   "source": [
    "def transform_label_normal(text: str, label: list) -> list[dict]:\n",
    "    label_list_dict = []\n",
    "    start : int = label[0]\n",
    "    end : int = label[1]\n",
    "    catg : str = label[2]\n",
    "    part = text[start:end]\n",
    "    token_list = remove_redundant_spaces_regex(part.strip()).split(\" \")\n",
    "    for i, t in enumerate(token_list):\n",
    "        new_repr_inner = {\"start\": start, \"end\": start+len(t), \"label\": catg, \"token\":t}\n",
    "        start += len(t) + 1\n",
    "        label_list_dict.append(new_repr_inner)\n",
    "    return label_list_dict"
   ]
  },
  {
   "cell_type": "code",
   "execution_count": 15,
   "metadata": {},
   "outputs": [],
   "source": [
    "def transform_df_labels(df: pd.DataFrame):\n",
    "    for i in range(df.shape[0]):\n",
    "        text : str = df[\"text\"].iloc[i]\n",
    "        label_list : list = df[\"label\"].iloc[i]\n",
    "        transformed_labels : list = []\n",
    "        for label in label_list:\n",
    "            transformed_labels.extend(transform_label_normal(text,label))\n",
    "        df[\"label\"].iloc[i] = transformed_labels\n",
    "    return df"
   ]
  },
  {
   "cell_type": "code",
   "execution_count": 16,
   "metadata": {},
   "outputs": [
    {
     "data": {
      "text/html": [
       "<div>\n",
       "<style scoped>\n",
       "    .dataframe tbody tr th:only-of-type {\n",
       "        vertical-align: middle;\n",
       "    }\n",
       "\n",
       "    .dataframe tbody tr th {\n",
       "        vertical-align: top;\n",
       "    }\n",
       "\n",
       "    .dataframe thead th {\n",
       "        text-align: right;\n",
       "    }\n",
       "</style>\n",
       "<table border=\"1\" class=\"dataframe\">\n",
       "  <thead>\n",
       "    <tr style=\"text-align: right;\">\n",
       "      <th></th>\n",
       "      <th>text</th>\n",
       "      <th>label</th>\n",
       "    </tr>\n",
       "  </thead>\n",
       "  <tbody>\n",
       "    <tr>\n",
       "      <th>73</th>\n",
       "      <td>BİLATERAL MAMOGRAFİ İNCELEMESİ\\nBilateral meme...</td>\n",
       "      <td>[{'start': 31, 'end': 40, 'label': 'ANAT', 'to...</td>\n",
       "    </tr>\n",
       "    <tr>\n",
       "      <th>541</th>\n",
       "      <td>BİLATERAL MAMOGRAFİ İNCELEMESİ\\nMeme parankimi...</td>\n",
       "      <td>[{'start': 31, 'end': 35, 'label': 'ANAT', 'to...</td>\n",
       "    </tr>\n",
       "    <tr>\n",
       "      <th>454</th>\n",
       "      <td>BİLATERAL MAMOGRAFİ İNCELEMESİ:\\nHer iki memey...</td>\n",
       "      <td>[{'start': 83, 'end': 86, 'label': 'ANAT', 'to...</td>\n",
       "    </tr>\n",
       "    <tr>\n",
       "      <th>855</th>\n",
       "      <td>BİLATERAL MAMOGRAFİ İNCELEMESİ\\nBilateral meme...</td>\n",
       "      <td>[{'start': 31, 'end': 40, 'label': 'ANAT', 'to...</td>\n",
       "    </tr>\n",
       "    <tr>\n",
       "      <th>61</th>\n",
       "      <td>BİLATERAL MAMOGRAFİ İNCELEMESİ\\t\\nBilateral me...</td>\n",
       "      <td>[{'start': 32, 'end': 41, 'label': 'ANAT', 'to...</td>\n",
       "    </tr>\n",
       "    <tr>\n",
       "      <th>...</th>\n",
       "      <td>...</td>\n",
       "      <td>...</td>\n",
       "    </tr>\n",
       "    <tr>\n",
       "      <th>177</th>\n",
       "      <td>BİLATERAL MAMOGRAFİ İNCELEMESİ\\nHer iki meme p...</td>\n",
       "      <td>[{'start': 31, 'end': 34, 'label': 'ANAT', 'to...</td>\n",
       "    </tr>\n",
       "    <tr>\n",
       "      <th>529</th>\n",
       "      <td>BİLATERAL MAMOGRAFİ İNCELEMESİ\\nHer iki meme c...</td>\n",
       "      <td>[{'start': 31, 'end': 34, 'label': 'ANAT', 'to...</td>\n",
       "    </tr>\n",
       "    <tr>\n",
       "      <th>396</th>\n",
       "      <td>BİLATERAL MAMOGRAFİ İNCELEMESİ \\nMeme paterni ...</td>\n",
       "      <td>[{'start': 32, 'end': 36, 'label': 'ANAT', 'to...</td>\n",
       "    </tr>\n",
       "    <tr>\n",
       "      <th>680</th>\n",
       "      <td>BİLATERAL MAMOGRAFİ İNCELEMESİ\\nHer iki memede...</td>\n",
       "      <td>[{'start': 31, 'end': 34, 'label': 'ANAT', 'to...</td>\n",
       "    </tr>\n",
       "    <tr>\n",
       "      <th>148</th>\n",
       "      <td>BİLATERAL MAMOGRAFİ İNCELEMESİ\\t\\t\\nBilateral ...</td>\n",
       "      <td>[{'start': 33, 'end': 42, 'label': 'ANAT', 'to...</td>\n",
       "    </tr>\n",
       "  </tbody>\n",
       "</table>\n",
       "<p>583 rows × 2 columns</p>\n",
       "</div>"
      ],
      "text/plain": [
       "                                                  text  \\\n",
       "73   BİLATERAL MAMOGRAFİ İNCELEMESİ\\nBilateral meme...   \n",
       "541  BİLATERAL MAMOGRAFİ İNCELEMESİ\\nMeme parankimi...   \n",
       "454  BİLATERAL MAMOGRAFİ İNCELEMESİ:\\nHer iki memey...   \n",
       "855  BİLATERAL MAMOGRAFİ İNCELEMESİ\\nBilateral meme...   \n",
       "61   BİLATERAL MAMOGRAFİ İNCELEMESİ\\t\\nBilateral me...   \n",
       "..                                                 ...   \n",
       "177  BİLATERAL MAMOGRAFİ İNCELEMESİ\\nHer iki meme p...   \n",
       "529  BİLATERAL MAMOGRAFİ İNCELEMESİ\\nHer iki meme c...   \n",
       "396  BİLATERAL MAMOGRAFİ İNCELEMESİ \\nMeme paterni ...   \n",
       "680  BİLATERAL MAMOGRAFİ İNCELEMESİ\\nHer iki memede...   \n",
       "148  BİLATERAL MAMOGRAFİ İNCELEMESİ\\t\\t\\nBilateral ...   \n",
       "\n",
       "                                                 label  \n",
       "73   [{'start': 31, 'end': 40, 'label': 'ANAT', 'to...  \n",
       "541  [{'start': 31, 'end': 35, 'label': 'ANAT', 'to...  \n",
       "454  [{'start': 83, 'end': 86, 'label': 'ANAT', 'to...  \n",
       "855  [{'start': 31, 'end': 40, 'label': 'ANAT', 'to...  \n",
       "61   [{'start': 32, 'end': 41, 'label': 'ANAT', 'to...  \n",
       "..                                                 ...  \n",
       "177  [{'start': 31, 'end': 34, 'label': 'ANAT', 'to...  \n",
       "529  [{'start': 31, 'end': 34, 'label': 'ANAT', 'to...  \n",
       "396  [{'start': 32, 'end': 36, 'label': 'ANAT', 'to...  \n",
       "680  [{'start': 31, 'end': 34, 'label': 'ANAT', 'to...  \n",
       "148  [{'start': 33, 'end': 42, 'label': 'ANAT', 'to...  \n",
       "\n",
       "[583 rows x 2 columns]"
      ]
     },
     "execution_count": 16,
     "metadata": {},
     "output_type": "execute_result"
    }
   ],
   "source": [
    "train_df_copy = train_df.copy()\n",
    "train_df_copy = transform_df_labels(train_df_copy)\n",
    "test_df_copy = test_df.copy()\n",
    "test_df_copy = transform_df_labels(test_df_copy)\n",
    "val_df_copy = val_df.copy()\n",
    "val_df_copy = transform_df_labels(val_df_copy)\n",
    "train_df_copy"
   ]
  },
  {
   "cell_type": "code",
   "execution_count": 17,
   "metadata": {},
   "outputs": [],
   "source": [
    "label_mapping = {\n",
    "    'O': 0,\n",
    "    'ANAT': 1,\n",
    "    'OBS-PRESENT': 2,\n",
    "    'OBS-UNCERTAIN':3,\n",
    "    'OBS-ABSENT': 4,\n",
    "    'IMPRESSION': 5,\n",
    "}"
   ]
  },
  {
   "cell_type": "code",
   "execution_count": 18,
   "metadata": {},
   "outputs": [],
   "source": [
    "import nltk\n",
    "t = nltk.tokenize.NLTKWordTokenizer()\n",
    "def transform_into_ner_tags(df: pd.DataFrame):\n",
    "    for i in range(df.shape[0]):\n",
    "        labels = df[\"label\"].iloc[i]\n",
    "        text = df[\"text\"].iloc[i]\n",
    "        count = 0\n",
    "        ner_tags = []\n",
    "        tokenized_text = remove_redundant_spaces_regex(text.replace(\"\\xa0\",\" \").replace(\"\\n\",\" \")).split()#t.tokenize(text)\n",
    "        #if i==0:print(tokenized_text)\n",
    "        for token in tokenized_text:\n",
    "            #if i==0:print(\"token: \",token, \"  label:\",labels[count][\"token\"], \"   count:\",count)\n",
    "            if count < len(labels) and (labels[count][\"token\"] in token or labels[count][\"token\"] == token or token in labels[count][\"token\"]):\n",
    "                ner_tags.append(label_mapping[labels[count][\"label\"]])\n",
    "                count+=1\n",
    "            else: ner_tags.append(label_mapping[\"O\"])\n",
    "        df.iloc[i] = tokenized_text, ner_tags\n",
    "    df.columns = [\"tokens\",\"ner_tags\"]\n",
    "\n",
    "    return df"
   ]
  },
  {
   "cell_type": "code",
   "execution_count": 19,
   "metadata": {},
   "outputs": [],
   "source": [
    "train_df_copy = transform_into_ner_tags(train_df_copy)\n",
    "test_df_copy = transform_into_ner_tags(test_df_copy)\n",
    "val_df_copy = transform_into_ner_tags(val_df_copy)"
   ]
  },
  {
   "cell_type": "code",
   "execution_count": 21,
   "metadata": {},
   "outputs": [],
   "source": [
    "def remove_impression_tags(l : list) -> list:\n",
    "    for i in range(len(l)):\n",
    "        if l[i] == 5:\n",
    "            l[i] = 0\n",
    "    return l\n"
   ]
  },
  {
   "cell_type": "code",
   "execution_count": 22,
   "metadata": {},
   "outputs": [
    {
     "data": {
      "text/plain": [
       "919    [0, 0, 0, 1, 1, 1, 1, 0, 0, 0, 0, 0, 0, 0, 0, ...\n",
       "159    [0, 0, 0, 1, 1, 1, 2, 2, 2, 2, 1, 1, 1, 1, 1, ...\n",
       "607    [0, 0, 0, 1, 1, 1, 1, 1, 0, 1, 1, 2, 1, 1, 1, ...\n",
       "674    [0, 0, 0, 1, 1, 2, 2, 2, 0, 0, 1, 1, 2, 2, 2, ...\n",
       "749    [0, 0, 0, 1, 1, 1, 1, 2, 2, 2, 0, 0, 0, 0, 0, ...\n",
       "                             ...                        \n",
       "728    [0, 0, 0, 1, 1, 1, 1, 2, 2, 2, 1, 1, 0, 1, 1, ...\n",
       "540    [0, 0, 0, 1, 1, 1, 2, 2, 2, 2, 1, 1, 1, 1, 1, ...\n",
       "274    [0, 0, 0, 1, 1, 0, 1, 1, 2, 1, 1, 1, 2, 1, 1, ...\n",
       "521    [0, 0, 0, 1, 1, 2, 2, 1, 1, 1, 1, 0, 1, 1, 2, ...\n",
       "711    [0, 0, 0, 1, 1, 1, 1, 1, 2, 0, 1, 1, 1, 2, 2, ...\n",
       "Name: ner_tags, Length: 195, dtype: object"
      ]
     },
     "execution_count": 22,
     "metadata": {},
     "output_type": "execute_result"
    }
   ],
   "source": [
    "train_df_copy[\"ner_tags\"].apply(remove_impression_tags)\n",
    "test_df_copy[\"ner_tags\"].apply(remove_impression_tags)\n",
    "val_df_copy[\"ner_tags\"].apply(remove_impression_tags)"
   ]
  },
  {
   "cell_type": "code",
   "execution_count": 26,
   "metadata": {},
   "outputs": [
    {
     "data": {
      "text/plain": [
       "int"
      ]
     },
     "execution_count": 26,
     "metadata": {},
     "output_type": "execute_result"
    }
   ],
   "source": [
    "type(train_df_copy[\"ner_tags\"].iloc[0][0])"
   ]
  },
  {
   "cell_type": "code",
   "execution_count": 43,
   "metadata": {},
   "outputs": [],
   "source": [
    "out_list = []\n",
    "obs_p_list = []\n",
    "obs_a_list = []\n",
    "obs_u_list = []\n",
    "anat_list = []\n",
    "for i in range(train_df_copy.shape[0]):\n",
    "    item = train_df_copy.iloc[i]\n",
    "    txt = item[\"tokens\"]\n",
    "    lbl = item[\"ner_tags\"]\n",
    "    for ind,l in enumerate(lbl):\n",
    "        a = txt[ind]\n",
    "        if l == 2:\n",
    "            obs_p_list.append(a)\n",
    "        elif l == 3:\n",
    "            obs_u_list.append(a)\n",
    "        elif l == 4:\n",
    "            obs_a_list.append(a)\n",
    "        elif l == 1:\n",
    "            anat_list.append(a)\n",
    "        elif l == 0:\n",
    "            out_list.append(a)"
   ]
  },
  {
   "cell_type": "code",
   "execution_count": 44,
   "metadata": {},
   "outputs": [],
   "source": [
    "obsp_df = pd.DataFrame(pd.DataFrame(obs_p_list).value_counts().reset_index())\n",
    "obsa_df = pd.DataFrame(pd.DataFrame(obs_a_list).value_counts().reset_index())\n",
    "obsu_df = pd.DataFrame(pd.DataFrame(obs_u_list).value_counts().reset_index())\n",
    "anat_df = pd.DataFrame(pd.DataFrame(anat_list).value_counts().reset_index())\n",
    "out_df = pd.DataFrame(pd.DataFrame(out_list).value_counts().reset_index())"
   ]
  },
  {
   "cell_type": "code",
   "execution_count": 45,
   "metadata": {},
   "outputs": [],
   "source": [
    "obsp_df.columns = [\"words\",\"count\"]\n",
    "obsu_df.columns = [\"words\",\"count\"]\n",
    "obsa_df.columns = [\"words\",\"count\"]\n",
    "anat_df.columns = [\"words\",\"count\"]\n",
    "out_df.columns = [\"words\",\"count\"]"
   ]
  },
  {
   "cell_type": "code",
   "execution_count": 47,
   "metadata": {},
   "outputs": [],
   "source": [
    "all_tags_list = []\n",
    "all_tags_list.extend(obs_p_list)\n",
    "all_tags_list.extend(obs_u_list)\n",
    "all_tags_list.extend(obs_a_list)\n",
    "all_tags_list.extend(anat_list)\n",
    "all_tags_list.extend(out_list)"
   ]
  },
  {
   "cell_type": "code",
   "execution_count": 48,
   "metadata": {},
   "outputs": [
    {
     "data": {
      "text/plain": [
       "40263"
      ]
     },
     "execution_count": 48,
     "metadata": {},
     "output_type": "execute_result"
    }
   ],
   "source": [
    "len(all_tags_list)"
   ]
  },
  {
   "cell_type": "code",
   "execution_count": 63,
   "metadata": {},
   "outputs": [],
   "source": [
    "hardcoded_dict = dict()\n",
    "for i in all_tags_list:\n",
    "    total_count = all_tags_list.count(i)\n",
    "    if i not in hardcoded_dict and total_count >= 20:\n",
    "        OC = out_list.count(i)/total_count\n",
    "        ANC = anat_list.count(i)/total_count\n",
    "        PC = obs_p_list.count(i)/total_count\n",
    "        UC = obs_u_list.count(i)/total_count\n",
    "        AC = obs_a_list.count(i)/total_count\n",
    "        \n",
    "        hardcoded_dict[i] = [OC,ANC,PC,UC,AC]\n",
    "        \n"
   ]
  },
  {
   "cell_type": "code",
   "execution_count": 64,
   "metadata": {},
   "outputs": [],
   "source": [
    "hardcoded_probs_df = pd.DataFrame(hardcoded_dict).T.reset_index()\n",
    "hardcoded_probs_df.columns=[\"token\",\"O\",\"ANAT\",\"OBS-PRESENT\",\"OBS-UNCERTAIN\",\"OBS-ABSENT\"]"
   ]
  },
  {
   "cell_type": "code",
   "execution_count": 66,
   "metadata": {},
   "outputs": [],
   "source": [
    "hardcoded_probs_df.to_csv(\"hardcoded_probs_df.csv\")"
   ]
  }
 ],
 "metadata": {
  "kernelspec": {
   "display_name": "base",
   "language": "python",
   "name": "python3"
  },
  "language_info": {
   "codemirror_mode": {
    "name": "ipython",
    "version": 3
   },
   "file_extension": ".py",
   "mimetype": "text/x-python",
   "name": "python",
   "nbconvert_exporter": "python",
   "pygments_lexer": "ipython3",
   "version": "3.11.5"
  }
 },
 "nbformat": 4,
 "nbformat_minor": 2
}
