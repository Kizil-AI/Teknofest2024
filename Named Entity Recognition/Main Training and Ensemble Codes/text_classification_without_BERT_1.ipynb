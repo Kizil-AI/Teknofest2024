{
  "nbformat": 4,
  "nbformat_minor": 0,
  "metadata": {
    "colab": {
      "provenance": [],
      "gpuType": "T4"
    },
    "kernelspec": {
      "name": "python3",
      "display_name": "Python 3"
    },
    "language_info": {
      "name": "python"
    },
    "accelerator": "GPU"
  },
  "cells": [
    {
      "cell_type": "code",
      "execution_count": null,
      "metadata": {
        "id": "z29zqmzcmAEp"
      },
      "outputs": [],
      "source": [
        "import numpy as np # linear algebra\n",
        "import pandas as pd # data processing, CSV file I/O (e.g. pd.read_csv)\n",
        "from sklearn.feature_extraction.text import TfidfVectorizer\n",
        "from sklearn.model_selection import train_test_split\n",
        "from sklearn.svm import LinearSVC\n",
        "from sklearn.tree import DecisionTreeClassifier\n",
        "from sklearn.linear_model import LogisticRegression\n",
        "from sklearn.ensemble import RandomForestClassifier\n",
        "from sklearn.naive_bayes import MultinomialNB, ComplementNB\n",
        "from sklearn.metrics import accuracy_score, f1_score, confusion_matrix, classification_report\n"
      ]
    },
    {
      "cell_type": "code",
      "source": [
        "# Load your dataset\n",
        "df = pd.read_csv('text_class_sonuc_cikarilmis.csv')  # Adjust the file name/path accordingly\n",
        "texts = df['text'].tolist()\n",
        "labels = df['class'].tolist()\n",
        "\n",
        "# Convert labels to integers if they are not already\n",
        "labels = [int(label)-1 for label in labels]\n",
        "\n",
        "num_labels = 5\n",
        "# Split the dataset\n",
        "train_texts, val_texts, train_labels, val_labels = train_test_split(texts, labels, test_size=0.2,random_state=42)\n",
        "#train_texts, test_texts, train_labels, test_labels = train_test_split(train_texts, train_labels, test_size=0.2,random_state=42)"
      ],
      "metadata": {
        "id": "fHWjbJupmIH-"
      },
      "execution_count": null,
      "outputs": []
    },
    {
      "cell_type": "code",
      "source": [
        "tfidf = TfidfVectorizer()\n",
        "X_train_tfidf = tfidf.fit_transform(train_texts)\n",
        "X_test_tfidf = tfidf.transform(val_texts)"
      ],
      "metadata": {
        "id": "57_xdpcHm0V-"
      },
      "execution_count": null,
      "outputs": []
    },
    {
      "cell_type": "code",
      "source": [
        "svm = LinearSVC()\n",
        "svm.fit(X_train_tfidf, train_labels)"
      ],
      "metadata": {
        "colab": {
          "base_uri": "https://localhost:8080/",
          "height": 74
        },
        "id": "qhEwHiI-m3V7",
        "outputId": "365ad0fb-9b50-4303-8359-af0e98506ba2"
      },
      "execution_count": null,
      "outputs": [
        {
          "output_type": "execute_result",
          "data": {
            "text/plain": [
              "LinearSVC()"
            ],
            "text/html": [
              "<style>#sk-container-id-1 {color: black;background-color: white;}#sk-container-id-1 pre{padding: 0;}#sk-container-id-1 div.sk-toggleable {background-color: white;}#sk-container-id-1 label.sk-toggleable__label {cursor: pointer;display: block;width: 100%;margin-bottom: 0;padding: 0.3em;box-sizing: border-box;text-align: center;}#sk-container-id-1 label.sk-toggleable__label-arrow:before {content: \"▸\";float: left;margin-right: 0.25em;color: #696969;}#sk-container-id-1 label.sk-toggleable__label-arrow:hover:before {color: black;}#sk-container-id-1 div.sk-estimator:hover label.sk-toggleable__label-arrow:before {color: black;}#sk-container-id-1 div.sk-toggleable__content {max-height: 0;max-width: 0;overflow: hidden;text-align: left;background-color: #f0f8ff;}#sk-container-id-1 div.sk-toggleable__content pre {margin: 0.2em;color: black;border-radius: 0.25em;background-color: #f0f8ff;}#sk-container-id-1 input.sk-toggleable__control:checked~div.sk-toggleable__content {max-height: 200px;max-width: 100%;overflow: auto;}#sk-container-id-1 input.sk-toggleable__control:checked~label.sk-toggleable__label-arrow:before {content: \"▾\";}#sk-container-id-1 div.sk-estimator input.sk-toggleable__control:checked~label.sk-toggleable__label {background-color: #d4ebff;}#sk-container-id-1 div.sk-label input.sk-toggleable__control:checked~label.sk-toggleable__label {background-color: #d4ebff;}#sk-container-id-1 input.sk-hidden--visually {border: 0;clip: rect(1px 1px 1px 1px);clip: rect(1px, 1px, 1px, 1px);height: 1px;margin: -1px;overflow: hidden;padding: 0;position: absolute;width: 1px;}#sk-container-id-1 div.sk-estimator {font-family: monospace;background-color: #f0f8ff;border: 1px dotted black;border-radius: 0.25em;box-sizing: border-box;margin-bottom: 0.5em;}#sk-container-id-1 div.sk-estimator:hover {background-color: #d4ebff;}#sk-container-id-1 div.sk-parallel-item::after {content: \"\";width: 100%;border-bottom: 1px solid gray;flex-grow: 1;}#sk-container-id-1 div.sk-label:hover label.sk-toggleable__label {background-color: #d4ebff;}#sk-container-id-1 div.sk-serial::before {content: \"\";position: absolute;border-left: 1px solid gray;box-sizing: border-box;top: 0;bottom: 0;left: 50%;z-index: 0;}#sk-container-id-1 div.sk-serial {display: flex;flex-direction: column;align-items: center;background-color: white;padding-right: 0.2em;padding-left: 0.2em;position: relative;}#sk-container-id-1 div.sk-item {position: relative;z-index: 1;}#sk-container-id-1 div.sk-parallel {display: flex;align-items: stretch;justify-content: center;background-color: white;position: relative;}#sk-container-id-1 div.sk-item::before, #sk-container-id-1 div.sk-parallel-item::before {content: \"\";position: absolute;border-left: 1px solid gray;box-sizing: border-box;top: 0;bottom: 0;left: 50%;z-index: -1;}#sk-container-id-1 div.sk-parallel-item {display: flex;flex-direction: column;z-index: 1;position: relative;background-color: white;}#sk-container-id-1 div.sk-parallel-item:first-child::after {align-self: flex-end;width: 50%;}#sk-container-id-1 div.sk-parallel-item:last-child::after {align-self: flex-start;width: 50%;}#sk-container-id-1 div.sk-parallel-item:only-child::after {width: 0;}#sk-container-id-1 div.sk-dashed-wrapped {border: 1px dashed gray;margin: 0 0.4em 0.5em 0.4em;box-sizing: border-box;padding-bottom: 0.4em;background-color: white;}#sk-container-id-1 div.sk-label label {font-family: monospace;font-weight: bold;display: inline-block;line-height: 1.2em;}#sk-container-id-1 div.sk-label-container {text-align: center;}#sk-container-id-1 div.sk-container {/* jupyter's `normalize.less` sets `[hidden] { display: none; }` but bootstrap.min.css set `[hidden] { display: none !important; }` so we also need the `!important` here to be able to override the default hidden behavior on the sphinx rendered scikit-learn.org. See: https://github.com/scikit-learn/scikit-learn/issues/21755 */display: inline-block !important;position: relative;}#sk-container-id-1 div.sk-text-repr-fallback {display: none;}</style><div id=\"sk-container-id-1\" class=\"sk-top-container\"><div class=\"sk-text-repr-fallback\"><pre>LinearSVC()</pre><b>In a Jupyter environment, please rerun this cell to show the HTML representation or trust the notebook. <br />On GitHub, the HTML representation is unable to render, please try loading this page with nbviewer.org.</b></div><div class=\"sk-container\" hidden><div class=\"sk-item\"><div class=\"sk-estimator sk-toggleable\"><input class=\"sk-toggleable__control sk-hidden--visually\" id=\"sk-estimator-id-1\" type=\"checkbox\" checked><label for=\"sk-estimator-id-1\" class=\"sk-toggleable__label sk-toggleable__label-arrow\">LinearSVC</label><div class=\"sk-toggleable__content\"><pre>LinearSVC()</pre></div></div></div></div></div>"
            ]
          },
          "metadata": {},
          "execution_count": 4
        }
      ]
    },
    {
      "cell_type": "code",
      "source": [
        "y_pred = svm.predict(X_test_tfidf)\n",
        "acc = accuracy_score(val_labels, y_pred)\n",
        "f1 = f1_score(val_labels, y_pred, average='weighted')\n",
        "print(classification_report(val_labels, y_pred))"
      ],
      "metadata": {
        "colab": {
          "base_uri": "https://localhost:8080/"
        },
        "id": "E2_nPS5jnBIH",
        "outputId": "aee02723-3125-4bdd-ec49-3e17e522cc7c"
      },
      "execution_count": null,
      "outputs": [
        {
          "output_type": "stream",
          "name": "stdout",
          "text": [
            "              precision    recall  f1-score   support\n",
            "\n",
            "           0       0.60      0.43      0.50         7\n",
            "           1       0.92      0.86      0.89        85\n",
            "           2       0.93      0.98      0.95        89\n",
            "           3       0.95      0.95      0.95        94\n",
            "           4       0.95      0.98      0.96       125\n",
            "\n",
            "    accuracy                           0.94       400\n",
            "   macro avg       0.87      0.84      0.85       400\n",
            "weighted avg       0.93      0.94      0.93       400\n",
            "\n"
          ]
        }
      ]
    },
    {
      "cell_type": "code",
      "source": [
        "mnb = MultinomialNB()\n",
        "mnb.fit(X_train_tfidf, train_labels)"
      ],
      "metadata": {
        "colab": {
          "base_uri": "https://localhost:8080/",
          "height": 74
        },
        "id": "_ptroXg7n-rL",
        "outputId": "86ea725e-c34c-47cf-82b9-59d01a7e042a"
      },
      "execution_count": null,
      "outputs": [
        {
          "output_type": "execute_result",
          "data": {
            "text/plain": [
              "MultinomialNB()"
            ],
            "text/html": [
              "<style>#sk-container-id-2 {color: black;background-color: white;}#sk-container-id-2 pre{padding: 0;}#sk-container-id-2 div.sk-toggleable {background-color: white;}#sk-container-id-2 label.sk-toggleable__label {cursor: pointer;display: block;width: 100%;margin-bottom: 0;padding: 0.3em;box-sizing: border-box;text-align: center;}#sk-container-id-2 label.sk-toggleable__label-arrow:before {content: \"▸\";float: left;margin-right: 0.25em;color: #696969;}#sk-container-id-2 label.sk-toggleable__label-arrow:hover:before {color: black;}#sk-container-id-2 div.sk-estimator:hover label.sk-toggleable__label-arrow:before {color: black;}#sk-container-id-2 div.sk-toggleable__content {max-height: 0;max-width: 0;overflow: hidden;text-align: left;background-color: #f0f8ff;}#sk-container-id-2 div.sk-toggleable__content pre {margin: 0.2em;color: black;border-radius: 0.25em;background-color: #f0f8ff;}#sk-container-id-2 input.sk-toggleable__control:checked~div.sk-toggleable__content {max-height: 200px;max-width: 100%;overflow: auto;}#sk-container-id-2 input.sk-toggleable__control:checked~label.sk-toggleable__label-arrow:before {content: \"▾\";}#sk-container-id-2 div.sk-estimator input.sk-toggleable__control:checked~label.sk-toggleable__label {background-color: #d4ebff;}#sk-container-id-2 div.sk-label input.sk-toggleable__control:checked~label.sk-toggleable__label {background-color: #d4ebff;}#sk-container-id-2 input.sk-hidden--visually {border: 0;clip: rect(1px 1px 1px 1px);clip: rect(1px, 1px, 1px, 1px);height: 1px;margin: -1px;overflow: hidden;padding: 0;position: absolute;width: 1px;}#sk-container-id-2 div.sk-estimator {font-family: monospace;background-color: #f0f8ff;border: 1px dotted black;border-radius: 0.25em;box-sizing: border-box;margin-bottom: 0.5em;}#sk-container-id-2 div.sk-estimator:hover {background-color: #d4ebff;}#sk-container-id-2 div.sk-parallel-item::after {content: \"\";width: 100%;border-bottom: 1px solid gray;flex-grow: 1;}#sk-container-id-2 div.sk-label:hover label.sk-toggleable__label {background-color: #d4ebff;}#sk-container-id-2 div.sk-serial::before {content: \"\";position: absolute;border-left: 1px solid gray;box-sizing: border-box;top: 0;bottom: 0;left: 50%;z-index: 0;}#sk-container-id-2 div.sk-serial {display: flex;flex-direction: column;align-items: center;background-color: white;padding-right: 0.2em;padding-left: 0.2em;position: relative;}#sk-container-id-2 div.sk-item {position: relative;z-index: 1;}#sk-container-id-2 div.sk-parallel {display: flex;align-items: stretch;justify-content: center;background-color: white;position: relative;}#sk-container-id-2 div.sk-item::before, #sk-container-id-2 div.sk-parallel-item::before {content: \"\";position: absolute;border-left: 1px solid gray;box-sizing: border-box;top: 0;bottom: 0;left: 50%;z-index: -1;}#sk-container-id-2 div.sk-parallel-item {display: flex;flex-direction: column;z-index: 1;position: relative;background-color: white;}#sk-container-id-2 div.sk-parallel-item:first-child::after {align-self: flex-end;width: 50%;}#sk-container-id-2 div.sk-parallel-item:last-child::after {align-self: flex-start;width: 50%;}#sk-container-id-2 div.sk-parallel-item:only-child::after {width: 0;}#sk-container-id-2 div.sk-dashed-wrapped {border: 1px dashed gray;margin: 0 0.4em 0.5em 0.4em;box-sizing: border-box;padding-bottom: 0.4em;background-color: white;}#sk-container-id-2 div.sk-label label {font-family: monospace;font-weight: bold;display: inline-block;line-height: 1.2em;}#sk-container-id-2 div.sk-label-container {text-align: center;}#sk-container-id-2 div.sk-container {/* jupyter's `normalize.less` sets `[hidden] { display: none; }` but bootstrap.min.css set `[hidden] { display: none !important; }` so we also need the `!important` here to be able to override the default hidden behavior on the sphinx rendered scikit-learn.org. See: https://github.com/scikit-learn/scikit-learn/issues/21755 */display: inline-block !important;position: relative;}#sk-container-id-2 div.sk-text-repr-fallback {display: none;}</style><div id=\"sk-container-id-2\" class=\"sk-top-container\"><div class=\"sk-text-repr-fallback\"><pre>MultinomialNB()</pre><b>In a Jupyter environment, please rerun this cell to show the HTML representation or trust the notebook. <br />On GitHub, the HTML representation is unable to render, please try loading this page with nbviewer.org.</b></div><div class=\"sk-container\" hidden><div class=\"sk-item\"><div class=\"sk-estimator sk-toggleable\"><input class=\"sk-toggleable__control sk-hidden--visually\" id=\"sk-estimator-id-2\" type=\"checkbox\" checked><label for=\"sk-estimator-id-2\" class=\"sk-toggleable__label sk-toggleable__label-arrow\">MultinomialNB</label><div class=\"sk-toggleable__content\"><pre>MultinomialNB()</pre></div></div></div></div></div>"
            ]
          },
          "metadata": {},
          "execution_count": 6
        }
      ]
    },
    {
      "cell_type": "code",
      "source": [
        "y_pred = mnb.predict(X_test_tfidf)\n",
        "acc = accuracy_score(val_labels, y_pred)\n",
        "f1 = f1_score(val_labels, y_pred, average='weighted')\n",
        "print(classification_report(val_labels, y_pred))"
      ],
      "metadata": {
        "colab": {
          "base_uri": "https://localhost:8080/"
        },
        "id": "yj7AHSUioHZs",
        "outputId": "b64a143d-3a76-4c2d-a6c8-98816df7b225"
      },
      "execution_count": null,
      "outputs": [
        {
          "output_type": "stream",
          "name": "stdout",
          "text": [
            "              precision    recall  f1-score   support\n",
            "\n",
            "           0       0.00      0.00      0.00         7\n",
            "           1       0.76      0.59      0.66        85\n",
            "           2       0.84      0.71      0.77        89\n",
            "           3       0.68      0.83      0.75        94\n",
            "           4       0.80      0.93      0.86       125\n",
            "\n",
            "    accuracy                           0.77       400\n",
            "   macro avg       0.62      0.61      0.61       400\n",
            "weighted avg       0.76      0.77      0.76       400\n",
            "\n"
          ]
        },
        {
          "output_type": "stream",
          "name": "stderr",
          "text": [
            "/usr/local/lib/python3.10/dist-packages/sklearn/metrics/_classification.py:1344: UndefinedMetricWarning: Precision and F-score are ill-defined and being set to 0.0 in labels with no predicted samples. Use `zero_division` parameter to control this behavior.\n",
            "  _warn_prf(average, modifier, msg_start, len(result))\n",
            "/usr/local/lib/python3.10/dist-packages/sklearn/metrics/_classification.py:1344: UndefinedMetricWarning: Precision and F-score are ill-defined and being set to 0.0 in labels with no predicted samples. Use `zero_division` parameter to control this behavior.\n",
            "  _warn_prf(average, modifier, msg_start, len(result))\n",
            "/usr/local/lib/python3.10/dist-packages/sklearn/metrics/_classification.py:1344: UndefinedMetricWarning: Precision and F-score are ill-defined and being set to 0.0 in labels with no predicted samples. Use `zero_division` parameter to control this behavior.\n",
            "  _warn_prf(average, modifier, msg_start, len(result))\n"
          ]
        }
      ]
    },
    {
      "cell_type": "code",
      "source": [
        "cnb = ComplementNB()\n",
        "cnb.fit(X_train_tfidf, train_labels)"
      ],
      "metadata": {
        "colab": {
          "base_uri": "https://localhost:8080/",
          "height": 74
        },
        "id": "RmxfXeEUojFy",
        "outputId": "768078b6-73c3-4b10-f846-e50e981f8b34"
      },
      "execution_count": null,
      "outputs": [
        {
          "output_type": "execute_result",
          "data": {
            "text/plain": [
              "ComplementNB()"
            ],
            "text/html": [
              "<style>#sk-container-id-3 {color: black;background-color: white;}#sk-container-id-3 pre{padding: 0;}#sk-container-id-3 div.sk-toggleable {background-color: white;}#sk-container-id-3 label.sk-toggleable__label {cursor: pointer;display: block;width: 100%;margin-bottom: 0;padding: 0.3em;box-sizing: border-box;text-align: center;}#sk-container-id-3 label.sk-toggleable__label-arrow:before {content: \"▸\";float: left;margin-right: 0.25em;color: #696969;}#sk-container-id-3 label.sk-toggleable__label-arrow:hover:before {color: black;}#sk-container-id-3 div.sk-estimator:hover label.sk-toggleable__label-arrow:before {color: black;}#sk-container-id-3 div.sk-toggleable__content {max-height: 0;max-width: 0;overflow: hidden;text-align: left;background-color: #f0f8ff;}#sk-container-id-3 div.sk-toggleable__content pre {margin: 0.2em;color: black;border-radius: 0.25em;background-color: #f0f8ff;}#sk-container-id-3 input.sk-toggleable__control:checked~div.sk-toggleable__content {max-height: 200px;max-width: 100%;overflow: auto;}#sk-container-id-3 input.sk-toggleable__control:checked~label.sk-toggleable__label-arrow:before {content: \"▾\";}#sk-container-id-3 div.sk-estimator input.sk-toggleable__control:checked~label.sk-toggleable__label {background-color: #d4ebff;}#sk-container-id-3 div.sk-label input.sk-toggleable__control:checked~label.sk-toggleable__label {background-color: #d4ebff;}#sk-container-id-3 input.sk-hidden--visually {border: 0;clip: rect(1px 1px 1px 1px);clip: rect(1px, 1px, 1px, 1px);height: 1px;margin: -1px;overflow: hidden;padding: 0;position: absolute;width: 1px;}#sk-container-id-3 div.sk-estimator {font-family: monospace;background-color: #f0f8ff;border: 1px dotted black;border-radius: 0.25em;box-sizing: border-box;margin-bottom: 0.5em;}#sk-container-id-3 div.sk-estimator:hover {background-color: #d4ebff;}#sk-container-id-3 div.sk-parallel-item::after {content: \"\";width: 100%;border-bottom: 1px solid gray;flex-grow: 1;}#sk-container-id-3 div.sk-label:hover label.sk-toggleable__label {background-color: #d4ebff;}#sk-container-id-3 div.sk-serial::before {content: \"\";position: absolute;border-left: 1px solid gray;box-sizing: border-box;top: 0;bottom: 0;left: 50%;z-index: 0;}#sk-container-id-3 div.sk-serial {display: flex;flex-direction: column;align-items: center;background-color: white;padding-right: 0.2em;padding-left: 0.2em;position: relative;}#sk-container-id-3 div.sk-item {position: relative;z-index: 1;}#sk-container-id-3 div.sk-parallel {display: flex;align-items: stretch;justify-content: center;background-color: white;position: relative;}#sk-container-id-3 div.sk-item::before, #sk-container-id-3 div.sk-parallel-item::before {content: \"\";position: absolute;border-left: 1px solid gray;box-sizing: border-box;top: 0;bottom: 0;left: 50%;z-index: -1;}#sk-container-id-3 div.sk-parallel-item {display: flex;flex-direction: column;z-index: 1;position: relative;background-color: white;}#sk-container-id-3 div.sk-parallel-item:first-child::after {align-self: flex-end;width: 50%;}#sk-container-id-3 div.sk-parallel-item:last-child::after {align-self: flex-start;width: 50%;}#sk-container-id-3 div.sk-parallel-item:only-child::after {width: 0;}#sk-container-id-3 div.sk-dashed-wrapped {border: 1px dashed gray;margin: 0 0.4em 0.5em 0.4em;box-sizing: border-box;padding-bottom: 0.4em;background-color: white;}#sk-container-id-3 div.sk-label label {font-family: monospace;font-weight: bold;display: inline-block;line-height: 1.2em;}#sk-container-id-3 div.sk-label-container {text-align: center;}#sk-container-id-3 div.sk-container {/* jupyter's `normalize.less` sets `[hidden] { display: none; }` but bootstrap.min.css set `[hidden] { display: none !important; }` so we also need the `!important` here to be able to override the default hidden behavior on the sphinx rendered scikit-learn.org. See: https://github.com/scikit-learn/scikit-learn/issues/21755 */display: inline-block !important;position: relative;}#sk-container-id-3 div.sk-text-repr-fallback {display: none;}</style><div id=\"sk-container-id-3\" class=\"sk-top-container\"><div class=\"sk-text-repr-fallback\"><pre>ComplementNB()</pre><b>In a Jupyter environment, please rerun this cell to show the HTML representation or trust the notebook. <br />On GitHub, the HTML representation is unable to render, please try loading this page with nbviewer.org.</b></div><div class=\"sk-container\" hidden><div class=\"sk-item\"><div class=\"sk-estimator sk-toggleable\"><input class=\"sk-toggleable__control sk-hidden--visually\" id=\"sk-estimator-id-3\" type=\"checkbox\" checked><label for=\"sk-estimator-id-3\" class=\"sk-toggleable__label sk-toggleable__label-arrow\">ComplementNB</label><div class=\"sk-toggleable__content\"><pre>ComplementNB()</pre></div></div></div></div></div>"
            ]
          },
          "metadata": {},
          "execution_count": 8
        }
      ]
    },
    {
      "cell_type": "code",
      "source": [
        "y_pred = cnb.predict(X_test_tfidf)\n",
        "acc = accuracy_score(val_labels, y_pred)\n",
        "f1 = f1_score(val_labels, y_pred, average='weighted')\n",
        "print(classification_report(val_labels, y_pred))"
      ],
      "metadata": {
        "colab": {
          "base_uri": "https://localhost:8080/"
        },
        "id": "-L-ei_4zorjf",
        "outputId": "c9e7ccbd-fa12-4323-d4ed-0ce39cc6b3a7"
      },
      "execution_count": null,
      "outputs": [
        {
          "output_type": "stream",
          "name": "stdout",
          "text": [
            "              precision    recall  f1-score   support\n",
            "\n",
            "           0       0.00      0.00      0.00         7\n",
            "           1       0.71      0.76      0.74        85\n",
            "           2       0.74      0.74      0.74        89\n",
            "           3       0.88      0.78      0.82        94\n",
            "           4       0.83      0.91      0.87       125\n",
            "\n",
            "    accuracy                           0.80       400\n",
            "   macro avg       0.63      0.64      0.64       400\n",
            "weighted avg       0.78      0.80      0.79       400\n",
            "\n"
          ]
        },
        {
          "output_type": "stream",
          "name": "stderr",
          "text": [
            "/usr/local/lib/python3.10/dist-packages/sklearn/metrics/_classification.py:1344: UndefinedMetricWarning: Precision and F-score are ill-defined and being set to 0.0 in labels with no predicted samples. Use `zero_division` parameter to control this behavior.\n",
            "  _warn_prf(average, modifier, msg_start, len(result))\n",
            "/usr/local/lib/python3.10/dist-packages/sklearn/metrics/_classification.py:1344: UndefinedMetricWarning: Precision and F-score are ill-defined and being set to 0.0 in labels with no predicted samples. Use `zero_division` parameter to control this behavior.\n",
            "  _warn_prf(average, modifier, msg_start, len(result))\n",
            "/usr/local/lib/python3.10/dist-packages/sklearn/metrics/_classification.py:1344: UndefinedMetricWarning: Precision and F-score are ill-defined and being set to 0.0 in labels with no predicted samples. Use `zero_division` parameter to control this behavior.\n",
            "  _warn_prf(average, modifier, msg_start, len(result))\n"
          ]
        }
      ]
    },
    {
      "cell_type": "code",
      "source": [
        "dtc = DecisionTreeClassifier()\n",
        "dtc.fit(X_train_tfidf, train_labels)"
      ],
      "metadata": {
        "colab": {
          "base_uri": "https://localhost:8080/",
          "height": 74
        },
        "id": "hUBCfLNEpTtY",
        "outputId": "92344af6-d55b-4073-f535-3e7910f5bf5f"
      },
      "execution_count": null,
      "outputs": [
        {
          "output_type": "execute_result",
          "data": {
            "text/plain": [
              "DecisionTreeClassifier()"
            ],
            "text/html": [
              "<style>#sk-container-id-4 {color: black;background-color: white;}#sk-container-id-4 pre{padding: 0;}#sk-container-id-4 div.sk-toggleable {background-color: white;}#sk-container-id-4 label.sk-toggleable__label {cursor: pointer;display: block;width: 100%;margin-bottom: 0;padding: 0.3em;box-sizing: border-box;text-align: center;}#sk-container-id-4 label.sk-toggleable__label-arrow:before {content: \"▸\";float: left;margin-right: 0.25em;color: #696969;}#sk-container-id-4 label.sk-toggleable__label-arrow:hover:before {color: black;}#sk-container-id-4 div.sk-estimator:hover label.sk-toggleable__label-arrow:before {color: black;}#sk-container-id-4 div.sk-toggleable__content {max-height: 0;max-width: 0;overflow: hidden;text-align: left;background-color: #f0f8ff;}#sk-container-id-4 div.sk-toggleable__content pre {margin: 0.2em;color: black;border-radius: 0.25em;background-color: #f0f8ff;}#sk-container-id-4 input.sk-toggleable__control:checked~div.sk-toggleable__content {max-height: 200px;max-width: 100%;overflow: auto;}#sk-container-id-4 input.sk-toggleable__control:checked~label.sk-toggleable__label-arrow:before {content: \"▾\";}#sk-container-id-4 div.sk-estimator input.sk-toggleable__control:checked~label.sk-toggleable__label {background-color: #d4ebff;}#sk-container-id-4 div.sk-label input.sk-toggleable__control:checked~label.sk-toggleable__label {background-color: #d4ebff;}#sk-container-id-4 input.sk-hidden--visually {border: 0;clip: rect(1px 1px 1px 1px);clip: rect(1px, 1px, 1px, 1px);height: 1px;margin: -1px;overflow: hidden;padding: 0;position: absolute;width: 1px;}#sk-container-id-4 div.sk-estimator {font-family: monospace;background-color: #f0f8ff;border: 1px dotted black;border-radius: 0.25em;box-sizing: border-box;margin-bottom: 0.5em;}#sk-container-id-4 div.sk-estimator:hover {background-color: #d4ebff;}#sk-container-id-4 div.sk-parallel-item::after {content: \"\";width: 100%;border-bottom: 1px solid gray;flex-grow: 1;}#sk-container-id-4 div.sk-label:hover label.sk-toggleable__label {background-color: #d4ebff;}#sk-container-id-4 div.sk-serial::before {content: \"\";position: absolute;border-left: 1px solid gray;box-sizing: border-box;top: 0;bottom: 0;left: 50%;z-index: 0;}#sk-container-id-4 div.sk-serial {display: flex;flex-direction: column;align-items: center;background-color: white;padding-right: 0.2em;padding-left: 0.2em;position: relative;}#sk-container-id-4 div.sk-item {position: relative;z-index: 1;}#sk-container-id-4 div.sk-parallel {display: flex;align-items: stretch;justify-content: center;background-color: white;position: relative;}#sk-container-id-4 div.sk-item::before, #sk-container-id-4 div.sk-parallel-item::before {content: \"\";position: absolute;border-left: 1px solid gray;box-sizing: border-box;top: 0;bottom: 0;left: 50%;z-index: -1;}#sk-container-id-4 div.sk-parallel-item {display: flex;flex-direction: column;z-index: 1;position: relative;background-color: white;}#sk-container-id-4 div.sk-parallel-item:first-child::after {align-self: flex-end;width: 50%;}#sk-container-id-4 div.sk-parallel-item:last-child::after {align-self: flex-start;width: 50%;}#sk-container-id-4 div.sk-parallel-item:only-child::after {width: 0;}#sk-container-id-4 div.sk-dashed-wrapped {border: 1px dashed gray;margin: 0 0.4em 0.5em 0.4em;box-sizing: border-box;padding-bottom: 0.4em;background-color: white;}#sk-container-id-4 div.sk-label label {font-family: monospace;font-weight: bold;display: inline-block;line-height: 1.2em;}#sk-container-id-4 div.sk-label-container {text-align: center;}#sk-container-id-4 div.sk-container {/* jupyter's `normalize.less` sets `[hidden] { display: none; }` but bootstrap.min.css set `[hidden] { display: none !important; }` so we also need the `!important` here to be able to override the default hidden behavior on the sphinx rendered scikit-learn.org. See: https://github.com/scikit-learn/scikit-learn/issues/21755 */display: inline-block !important;position: relative;}#sk-container-id-4 div.sk-text-repr-fallback {display: none;}</style><div id=\"sk-container-id-4\" class=\"sk-top-container\"><div class=\"sk-text-repr-fallback\"><pre>DecisionTreeClassifier()</pre><b>In a Jupyter environment, please rerun this cell to show the HTML representation or trust the notebook. <br />On GitHub, the HTML representation is unable to render, please try loading this page with nbviewer.org.</b></div><div class=\"sk-container\" hidden><div class=\"sk-item\"><div class=\"sk-estimator sk-toggleable\"><input class=\"sk-toggleable__control sk-hidden--visually\" id=\"sk-estimator-id-4\" type=\"checkbox\" checked><label for=\"sk-estimator-id-4\" class=\"sk-toggleable__label sk-toggleable__label-arrow\">DecisionTreeClassifier</label><div class=\"sk-toggleable__content\"><pre>DecisionTreeClassifier()</pre></div></div></div></div></div>"
            ]
          },
          "metadata": {},
          "execution_count": 10
        }
      ]
    },
    {
      "cell_type": "code",
      "source": [
        "y_pred = dtc.predict(X_test_tfidf)\n",
        "acc = accuracy_score(val_labels, y_pred)\n",
        "f1 = f1_score(val_labels, y_pred, average='weighted')\n",
        "print(classification_report(val_labels, y_pred))"
      ],
      "metadata": {
        "colab": {
          "base_uri": "https://localhost:8080/"
        },
        "id": "bJXaB6RFpWwn",
        "outputId": "f91e79b5-8170-441c-d347-928c36d46f94"
      },
      "execution_count": null,
      "outputs": [
        {
          "output_type": "stream",
          "name": "stdout",
          "text": [
            "              precision    recall  f1-score   support\n",
            "\n",
            "           0       0.67      0.86      0.75         7\n",
            "           1       0.93      0.65      0.76        85\n",
            "           2       0.79      0.99      0.88        89\n",
            "           3       0.87      0.93      0.90        94\n",
            "           4       0.93      0.90      0.92       125\n",
            "\n",
            "    accuracy                           0.87       400\n",
            "   macro avg       0.84      0.86      0.84       400\n",
            "weighted avg       0.88      0.87      0.87       400\n",
            "\n"
          ]
        }
      ]
    },
    {
      "cell_type": "code",
      "source": [
        "rfc = RandomForestClassifier()\n",
        "rfc.fit(X_train_tfidf, train_labels)"
      ],
      "metadata": {
        "colab": {
          "base_uri": "https://localhost:8080/",
          "height": 74
        },
        "id": "Xo39aCinpVXG",
        "outputId": "78c74c10-6824-47ab-aba1-58523758b545"
      },
      "execution_count": null,
      "outputs": [
        {
          "output_type": "execute_result",
          "data": {
            "text/plain": [
              "RandomForestClassifier()"
            ],
            "text/html": [
              "<style>#sk-container-id-5 {color: black;background-color: white;}#sk-container-id-5 pre{padding: 0;}#sk-container-id-5 div.sk-toggleable {background-color: white;}#sk-container-id-5 label.sk-toggleable__label {cursor: pointer;display: block;width: 100%;margin-bottom: 0;padding: 0.3em;box-sizing: border-box;text-align: center;}#sk-container-id-5 label.sk-toggleable__label-arrow:before {content: \"▸\";float: left;margin-right: 0.25em;color: #696969;}#sk-container-id-5 label.sk-toggleable__label-arrow:hover:before {color: black;}#sk-container-id-5 div.sk-estimator:hover label.sk-toggleable__label-arrow:before {color: black;}#sk-container-id-5 div.sk-toggleable__content {max-height: 0;max-width: 0;overflow: hidden;text-align: left;background-color: #f0f8ff;}#sk-container-id-5 div.sk-toggleable__content pre {margin: 0.2em;color: black;border-radius: 0.25em;background-color: #f0f8ff;}#sk-container-id-5 input.sk-toggleable__control:checked~div.sk-toggleable__content {max-height: 200px;max-width: 100%;overflow: auto;}#sk-container-id-5 input.sk-toggleable__control:checked~label.sk-toggleable__label-arrow:before {content: \"▾\";}#sk-container-id-5 div.sk-estimator input.sk-toggleable__control:checked~label.sk-toggleable__label {background-color: #d4ebff;}#sk-container-id-5 div.sk-label input.sk-toggleable__control:checked~label.sk-toggleable__label {background-color: #d4ebff;}#sk-container-id-5 input.sk-hidden--visually {border: 0;clip: rect(1px 1px 1px 1px);clip: rect(1px, 1px, 1px, 1px);height: 1px;margin: -1px;overflow: hidden;padding: 0;position: absolute;width: 1px;}#sk-container-id-5 div.sk-estimator {font-family: monospace;background-color: #f0f8ff;border: 1px dotted black;border-radius: 0.25em;box-sizing: border-box;margin-bottom: 0.5em;}#sk-container-id-5 div.sk-estimator:hover {background-color: #d4ebff;}#sk-container-id-5 div.sk-parallel-item::after {content: \"\";width: 100%;border-bottom: 1px solid gray;flex-grow: 1;}#sk-container-id-5 div.sk-label:hover label.sk-toggleable__label {background-color: #d4ebff;}#sk-container-id-5 div.sk-serial::before {content: \"\";position: absolute;border-left: 1px solid gray;box-sizing: border-box;top: 0;bottom: 0;left: 50%;z-index: 0;}#sk-container-id-5 div.sk-serial {display: flex;flex-direction: column;align-items: center;background-color: white;padding-right: 0.2em;padding-left: 0.2em;position: relative;}#sk-container-id-5 div.sk-item {position: relative;z-index: 1;}#sk-container-id-5 div.sk-parallel {display: flex;align-items: stretch;justify-content: center;background-color: white;position: relative;}#sk-container-id-5 div.sk-item::before, #sk-container-id-5 div.sk-parallel-item::before {content: \"\";position: absolute;border-left: 1px solid gray;box-sizing: border-box;top: 0;bottom: 0;left: 50%;z-index: -1;}#sk-container-id-5 div.sk-parallel-item {display: flex;flex-direction: column;z-index: 1;position: relative;background-color: white;}#sk-container-id-5 div.sk-parallel-item:first-child::after {align-self: flex-end;width: 50%;}#sk-container-id-5 div.sk-parallel-item:last-child::after {align-self: flex-start;width: 50%;}#sk-container-id-5 div.sk-parallel-item:only-child::after {width: 0;}#sk-container-id-5 div.sk-dashed-wrapped {border: 1px dashed gray;margin: 0 0.4em 0.5em 0.4em;box-sizing: border-box;padding-bottom: 0.4em;background-color: white;}#sk-container-id-5 div.sk-label label {font-family: monospace;font-weight: bold;display: inline-block;line-height: 1.2em;}#sk-container-id-5 div.sk-label-container {text-align: center;}#sk-container-id-5 div.sk-container {/* jupyter's `normalize.less` sets `[hidden] { display: none; }` but bootstrap.min.css set `[hidden] { display: none !important; }` so we also need the `!important` here to be able to override the default hidden behavior on the sphinx rendered scikit-learn.org. See: https://github.com/scikit-learn/scikit-learn/issues/21755 */display: inline-block !important;position: relative;}#sk-container-id-5 div.sk-text-repr-fallback {display: none;}</style><div id=\"sk-container-id-5\" class=\"sk-top-container\"><div class=\"sk-text-repr-fallback\"><pre>RandomForestClassifier()</pre><b>In a Jupyter environment, please rerun this cell to show the HTML representation or trust the notebook. <br />On GitHub, the HTML representation is unable to render, please try loading this page with nbviewer.org.</b></div><div class=\"sk-container\" hidden><div class=\"sk-item\"><div class=\"sk-estimator sk-toggleable\"><input class=\"sk-toggleable__control sk-hidden--visually\" id=\"sk-estimator-id-5\" type=\"checkbox\" checked><label for=\"sk-estimator-id-5\" class=\"sk-toggleable__label sk-toggleable__label-arrow\">RandomForestClassifier</label><div class=\"sk-toggleable__content\"><pre>RandomForestClassifier()</pre></div></div></div></div></div>"
            ]
          },
          "metadata": {},
          "execution_count": 12
        }
      ]
    },
    {
      "cell_type": "code",
      "source": [
        "y_pred = rfc.predict(X_test_tfidf)\n",
        "acc = accuracy_score(val_labels, y_pred)\n",
        "f1 = f1_score(val_labels, y_pred, average='weighted')\n",
        "print(classification_report(val_labels, y_pred))"
      ],
      "metadata": {
        "colab": {
          "base_uri": "https://localhost:8080/"
        },
        "id": "pxAPx4mbpc2a",
        "outputId": "9c1f9eab-4275-4da0-cdf1-f2a662c3ecf4"
      },
      "execution_count": null,
      "outputs": [
        {
          "output_type": "stream",
          "name": "stdout",
          "text": [
            "              precision    recall  f1-score   support\n",
            "\n",
            "           0       0.67      0.29      0.40         7\n",
            "           1       0.88      0.67      0.76        85\n",
            "           2       0.83      0.96      0.89        89\n",
            "           3       0.88      0.96      0.92        94\n",
            "           4       0.95      0.97      0.96       125\n",
            "\n",
            "    accuracy                           0.89       400\n",
            "   macro avg       0.84      0.77      0.78       400\n",
            "weighted avg       0.89      0.89      0.88       400\n",
            "\n"
          ]
        }
      ]
    },
    {
      "cell_type": "code",
      "source": [
        "logr = LogisticRegression()\n",
        "logr.fit(X_train_tfidf, train_labels)"
      ],
      "metadata": {
        "colab": {
          "base_uri": "https://localhost:8080/",
          "height": 74
        },
        "id": "omA22uwtpi8o",
        "outputId": "cde42f5c-2b11-4b14-b68f-bf644f461394"
      },
      "execution_count": null,
      "outputs": [
        {
          "output_type": "execute_result",
          "data": {
            "text/plain": [
              "LogisticRegression()"
            ],
            "text/html": [
              "<style>#sk-container-id-6 {color: black;background-color: white;}#sk-container-id-6 pre{padding: 0;}#sk-container-id-6 div.sk-toggleable {background-color: white;}#sk-container-id-6 label.sk-toggleable__label {cursor: pointer;display: block;width: 100%;margin-bottom: 0;padding: 0.3em;box-sizing: border-box;text-align: center;}#sk-container-id-6 label.sk-toggleable__label-arrow:before {content: \"▸\";float: left;margin-right: 0.25em;color: #696969;}#sk-container-id-6 label.sk-toggleable__label-arrow:hover:before {color: black;}#sk-container-id-6 div.sk-estimator:hover label.sk-toggleable__label-arrow:before {color: black;}#sk-container-id-6 div.sk-toggleable__content {max-height: 0;max-width: 0;overflow: hidden;text-align: left;background-color: #f0f8ff;}#sk-container-id-6 div.sk-toggleable__content pre {margin: 0.2em;color: black;border-radius: 0.25em;background-color: #f0f8ff;}#sk-container-id-6 input.sk-toggleable__control:checked~div.sk-toggleable__content {max-height: 200px;max-width: 100%;overflow: auto;}#sk-container-id-6 input.sk-toggleable__control:checked~label.sk-toggleable__label-arrow:before {content: \"▾\";}#sk-container-id-6 div.sk-estimator input.sk-toggleable__control:checked~label.sk-toggleable__label {background-color: #d4ebff;}#sk-container-id-6 div.sk-label input.sk-toggleable__control:checked~label.sk-toggleable__label {background-color: #d4ebff;}#sk-container-id-6 input.sk-hidden--visually {border: 0;clip: rect(1px 1px 1px 1px);clip: rect(1px, 1px, 1px, 1px);height: 1px;margin: -1px;overflow: hidden;padding: 0;position: absolute;width: 1px;}#sk-container-id-6 div.sk-estimator {font-family: monospace;background-color: #f0f8ff;border: 1px dotted black;border-radius: 0.25em;box-sizing: border-box;margin-bottom: 0.5em;}#sk-container-id-6 div.sk-estimator:hover {background-color: #d4ebff;}#sk-container-id-6 div.sk-parallel-item::after {content: \"\";width: 100%;border-bottom: 1px solid gray;flex-grow: 1;}#sk-container-id-6 div.sk-label:hover label.sk-toggleable__label {background-color: #d4ebff;}#sk-container-id-6 div.sk-serial::before {content: \"\";position: absolute;border-left: 1px solid gray;box-sizing: border-box;top: 0;bottom: 0;left: 50%;z-index: 0;}#sk-container-id-6 div.sk-serial {display: flex;flex-direction: column;align-items: center;background-color: white;padding-right: 0.2em;padding-left: 0.2em;position: relative;}#sk-container-id-6 div.sk-item {position: relative;z-index: 1;}#sk-container-id-6 div.sk-parallel {display: flex;align-items: stretch;justify-content: center;background-color: white;position: relative;}#sk-container-id-6 div.sk-item::before, #sk-container-id-6 div.sk-parallel-item::before {content: \"\";position: absolute;border-left: 1px solid gray;box-sizing: border-box;top: 0;bottom: 0;left: 50%;z-index: -1;}#sk-container-id-6 div.sk-parallel-item {display: flex;flex-direction: column;z-index: 1;position: relative;background-color: white;}#sk-container-id-6 div.sk-parallel-item:first-child::after {align-self: flex-end;width: 50%;}#sk-container-id-6 div.sk-parallel-item:last-child::after {align-self: flex-start;width: 50%;}#sk-container-id-6 div.sk-parallel-item:only-child::after {width: 0;}#sk-container-id-6 div.sk-dashed-wrapped {border: 1px dashed gray;margin: 0 0.4em 0.5em 0.4em;box-sizing: border-box;padding-bottom: 0.4em;background-color: white;}#sk-container-id-6 div.sk-label label {font-family: monospace;font-weight: bold;display: inline-block;line-height: 1.2em;}#sk-container-id-6 div.sk-label-container {text-align: center;}#sk-container-id-6 div.sk-container {/* jupyter's `normalize.less` sets `[hidden] { display: none; }` but bootstrap.min.css set `[hidden] { display: none !important; }` so we also need the `!important` here to be able to override the default hidden behavior on the sphinx rendered scikit-learn.org. See: https://github.com/scikit-learn/scikit-learn/issues/21755 */display: inline-block !important;position: relative;}#sk-container-id-6 div.sk-text-repr-fallback {display: none;}</style><div id=\"sk-container-id-6\" class=\"sk-top-container\"><div class=\"sk-text-repr-fallback\"><pre>LogisticRegression()</pre><b>In a Jupyter environment, please rerun this cell to show the HTML representation or trust the notebook. <br />On GitHub, the HTML representation is unable to render, please try loading this page with nbviewer.org.</b></div><div class=\"sk-container\" hidden><div class=\"sk-item\"><div class=\"sk-estimator sk-toggleable\"><input class=\"sk-toggleable__control sk-hidden--visually\" id=\"sk-estimator-id-6\" type=\"checkbox\" checked><label for=\"sk-estimator-id-6\" class=\"sk-toggleable__label sk-toggleable__label-arrow\">LogisticRegression</label><div class=\"sk-toggleable__content\"><pre>LogisticRegression()</pre></div></div></div></div></div>"
            ]
          },
          "metadata": {},
          "execution_count": 14
        }
      ]
    },
    {
      "cell_type": "code",
      "source": [
        "y_pred = logr.predict(X_test_tfidf)\n",
        "acc = accuracy_score(val_labels, y_pred)\n",
        "f1 = f1_score(val_labels, y_pred, average='weighted')\n",
        "print(classification_report(val_labels, y_pred))"
      ],
      "metadata": {
        "colab": {
          "base_uri": "https://localhost:8080/"
        },
        "id": "Rbv0fIZlprqK",
        "outputId": "462f4435-6f2b-4376-c2a7-e1d242f626c6"
      },
      "execution_count": null,
      "outputs": [
        {
          "output_type": "stream",
          "name": "stdout",
          "text": [
            "              precision    recall  f1-score   support\n",
            "\n",
            "           0       0.00      0.00      0.00         7\n",
            "           1       0.83      0.75      0.79        85\n",
            "           2       0.86      0.91      0.89        89\n",
            "           3       0.87      0.90      0.89        94\n",
            "           4       0.93      0.98      0.95       125\n",
            "\n",
            "    accuracy                           0.88       400\n",
            "   macro avg       0.70      0.71      0.70       400\n",
            "weighted avg       0.86      0.88      0.87       400\n",
            "\n"
          ]
        },
        {
          "output_type": "stream",
          "name": "stderr",
          "text": [
            "/usr/local/lib/python3.10/dist-packages/sklearn/metrics/_classification.py:1344: UndefinedMetricWarning: Precision and F-score are ill-defined and being set to 0.0 in labels with no predicted samples. Use `zero_division` parameter to control this behavior.\n",
            "  _warn_prf(average, modifier, msg_start, len(result))\n",
            "/usr/local/lib/python3.10/dist-packages/sklearn/metrics/_classification.py:1344: UndefinedMetricWarning: Precision and F-score are ill-defined and being set to 0.0 in labels with no predicted samples. Use `zero_division` parameter to control this behavior.\n",
            "  _warn_prf(average, modifier, msg_start, len(result))\n",
            "/usr/local/lib/python3.10/dist-packages/sklearn/metrics/_classification.py:1344: UndefinedMetricWarning: Precision and F-score are ill-defined and being set to 0.0 in labels with no predicted samples. Use `zero_division` parameter to control this behavior.\n",
            "  _warn_prf(average, modifier, msg_start, len(result))\n"
          ]
        }
      ]
    },
    {
      "cell_type": "code",
      "source": [
        "import pandas as pd\n",
        "from sklearn.feature_extraction.text import TfidfVectorizer\n",
        "from sklearn.model_selection import train_test_split\n",
        "from sklearn.svm import LinearSVC, SVC\n",
        "from sklearn.naive_bayes import MultinomialNB, ComplementNB\n",
        "from sklearn.tree import DecisionTreeClassifier\n",
        "from sklearn.ensemble import RandomForestClassifier, VotingClassifier\n",
        "from sklearn.linear_model import LogisticRegression\n",
        "from sklearn.metrics import accuracy_score, f1_score, classification_report\n",
        "\n",
        "# Load your dataset\n",
        "df = pd.read_csv('text_class_sonuc_cikarilmis.csv')  # Adjust the file name/path accordingly\n",
        "new_df = pd.concat([df[df[\"class\"] == 1].sample(400,replace=True),df],axis=0)\n",
        "texts = new_df['text'].tolist()\n",
        "labels = new_df['class'].tolist()\n",
        "\n",
        "# Convert labels to integers if they are not already\n",
        "labels = [int(label) - 1 for label in labels]\n",
        "\n",
        "# Split the dataset\n",
        "train_texts, val_texts, train_labels, val_labels = train_test_split(texts, labels, test_size=0.2, random_state=42)\n",
        "\n",
        "# Vectorize the text data\n",
        "tfidf = TfidfVectorizer()\n",
        "X_train_tfidf = tfidf.fit_transform(train_texts)\n",
        "X_test_tfidf = tfidf.transform(val_texts)\n",
        "\n",
        "# Define the base classifiers\n",
        "svm = SVC(probability=True)\n",
        "mnb = MultinomialNB()\n",
        "cnb = ComplementNB()\n",
        "dtc = DecisionTreeClassifier()\n",
        "rfc = RandomForestClassifier()\n",
        "logr = LogisticRegression()\n",
        "\n",
        "# Train the base classifiers\n",
        "svm.fit(X_train_tfidf, train_labels)\n",
        "mnb.fit(X_train_tfidf, train_labels)\n",
        "cnb.fit(X_train_tfidf, train_labels)\n",
        "dtc.fit(X_train_tfidf, train_labels)\n",
        "rfc.fit(X_train_tfidf, train_labels)\n",
        "logr.fit(X_train_tfidf, train_labels)\n",
        "\n",
        "# Create an ensemble using voting\n",
        "voting_clf = VotingClassifier(\n",
        "    estimators=[\n",
        "        ('svm', svm),\n",
        "        #('mnb', mnb),\n",
        "        #('cnb', cnb),\n",
        "        #('dtc', dtc),\n",
        "        ('rfc', rfc),\n",
        "        #('logr', logr)\n",
        "    ],\n",
        "    voting='soft'  # Change to 'soft' for probability-based voting if classifiers support predict_proba\n",
        ")\n",
        "\n",
        "# Train the ensemble classifier\n",
        "voting_clf.fit(X_train_tfidf, train_labels)\n",
        "\n",
        "# Predict with the ensemble classifier\n",
        "y_pred = voting_clf.predict(X_test_tfidf)\n",
        "\n",
        "# Evaluate the ensemble classifier\n",
        "acc = accuracy_score(val_labels, y_pred)\n",
        "f1 = f1_score(val_labels, y_pred, average='weighted')\n",
        "print(f\"Accuracy: {acc}\")\n",
        "print(f\"F1 Score: {f1}\")\n",
        "print(classification_report(val_labels, y_pred,digits=5))\n"
      ],
      "metadata": {
        "colab": {
          "base_uri": "https://localhost:8080/"
        },
        "id": "PbIYyXiaG9F8",
        "outputId": "5753edb0-e645-4fdb-ad9e-48900ace3dd1"
      },
      "execution_count": null,
      "outputs": [
        {
          "output_type": "stream",
          "name": "stdout",
          "text": [
            "Accuracy: 0.95\n",
            "F1 Score: 0.9500986558447965\n",
            "              precision    recall  f1-score   support\n",
            "\n",
            "           0    0.96875   0.95876   0.96373        97\n",
            "           1    0.90244   0.92500   0.91358        80\n",
            "           2    0.96591   0.96591   0.96591        88\n",
            "           3    0.94393   0.94393   0.94393       107\n",
            "           4    0.96262   0.95370   0.95814       108\n",
            "\n",
            "    accuracy                        0.95000       480\n",
            "   macro avg    0.94873   0.94946   0.94906       480\n",
            "weighted avg    0.95026   0.95000   0.95010       480\n",
            "\n"
          ]
        }
      ]
    },
    {
      "cell_type": "code",
      "source": [
        "from sklearn.metrics import precision_score, recall_score\n",
        "import time"
      ],
      "metadata": {
        "id": "Isjg2q_8o9XF"
      },
      "execution_count": null,
      "outputs": []
    },
    {
      "cell_type": "code",
      "source": [
        "time1 = time.time()\n",
        "y_pred = logr.predict(X_test_tfidf)\n",
        "time2 = time.time()\n",
        "runtime = time2-time1\n",
        "acc = accuracy_score(val_labels, y_pred)\n",
        "f1 = f1_score(val_labels, y_pred, average='weighted')\n",
        "precision = precision_score(val_labels, y_pred, average='weighted')\n",
        "recall = recall_score(val_labels, y_pred, average='weighted')\n",
        "result = {\n",
        "    'Accuracy': acc,\n",
        "    'F1 Score': f1,\n",
        "    'Precision': precision,\n",
        "    'Recall': recall,\n",
        "    \"Runtime\": runtime,\n",
        "}\n",
        "print(result)"
      ],
      "metadata": {
        "colab": {
          "base_uri": "https://localhost:8080/"
        },
        "id": "49p-9N1SomPt",
        "outputId": "688905ef-5beb-4333-a7b0-aedf3dd20c35"
      },
      "execution_count": null,
      "outputs": [
        {
          "output_type": "stream",
          "name": "stdout",
          "text": [
            "{'Accuracy': 0.9041666666666667, 'F1 Score': 0.9028478367994054, 'Precision': 0.9046606193156417, 'Recall': 0.9041666666666667, 'Runtime': 0.004522085189819336}\n"
          ]
        }
      ]
    },
    {
      "cell_type": "code",
      "source": [
        "df[\"class\"].value_counts()"
      ],
      "metadata": {
        "colab": {
          "base_uri": "https://localhost:8080/"
        },
        "id": "Rn2cz1jVN5qg",
        "outputId": "eaf3b4a0-167e-4d85-d98b-c9b93a425afe"
      },
      "execution_count": null,
      "outputs": [
        {
          "output_type": "execute_result",
          "data": {
            "text/plain": [
              "class\n",
              "4.0    550\n",
              "5.0    550\n",
              "3.0    450\n",
              "2.0    400\n",
              "1.0     50\n",
              "Name: count, dtype: int64"
            ]
          },
          "metadata": {},
          "execution_count": 16
        }
      ]
    },
    {
      "cell_type": "code",
      "source": [
        "!pip install transformers[torch]"
      ],
      "metadata": {
        "colab": {
          "base_uri": "https://localhost:8080/"
        },
        "id": "Ahdfx_FOnOnz",
        "outputId": "9a8e0a01-2ae4-4f93-c915-cf7bbb983d86"
      },
      "execution_count": null,
      "outputs": [
        {
          "output_type": "stream",
          "name": "stdout",
          "text": [
            "Requirement already satisfied: transformers[torch] in /usr/local/lib/python3.10/dist-packages (4.41.2)\n",
            "Requirement already satisfied: filelock in /usr/local/lib/python3.10/dist-packages (from transformers[torch]) (3.15.3)\n",
            "Requirement already satisfied: huggingface-hub<1.0,>=0.23.0 in /usr/local/lib/python3.10/dist-packages (from transformers[torch]) (0.23.4)\n",
            "Requirement already satisfied: numpy>=1.17 in /usr/local/lib/python3.10/dist-packages (from transformers[torch]) (1.25.2)\n",
            "Requirement already satisfied: packaging>=20.0 in /usr/local/lib/python3.10/dist-packages (from transformers[torch]) (24.1)\n",
            "Requirement already satisfied: pyyaml>=5.1 in /usr/local/lib/python3.10/dist-packages (from transformers[torch]) (6.0.1)\n",
            "Requirement already satisfied: regex!=2019.12.17 in /usr/local/lib/python3.10/dist-packages (from transformers[torch]) (2024.5.15)\n",
            "Requirement already satisfied: requests in /usr/local/lib/python3.10/dist-packages (from transformers[torch]) (2.31.0)\n",
            "Requirement already satisfied: tokenizers<0.20,>=0.19 in /usr/local/lib/python3.10/dist-packages (from transformers[torch]) (0.19.1)\n",
            "Requirement already satisfied: safetensors>=0.4.1 in /usr/local/lib/python3.10/dist-packages (from transformers[torch]) (0.4.3)\n",
            "Requirement already satisfied: tqdm>=4.27 in /usr/local/lib/python3.10/dist-packages (from transformers[torch]) (4.66.4)\n",
            "Requirement already satisfied: torch in /usr/local/lib/python3.10/dist-packages (from transformers[torch]) (2.3.0+cu121)\n",
            "Collecting accelerate>=0.21.0 (from transformers[torch])\n",
            "  Downloading accelerate-0.31.0-py3-none-any.whl (309 kB)\n",
            "\u001b[2K     \u001b[90m━━━━━━━━━━━━━━━━━━━━━━━━━━━━━━━━━━━━━━━━\u001b[0m \u001b[32m309.4/309.4 kB\u001b[0m \u001b[31m9.2 MB/s\u001b[0m eta \u001b[36m0:00:00\u001b[0m\n",
            "\u001b[?25hRequirement already satisfied: psutil in /usr/local/lib/python3.10/dist-packages (from accelerate>=0.21.0->transformers[torch]) (5.9.5)\n",
            "Requirement already satisfied: fsspec>=2023.5.0 in /usr/local/lib/python3.10/dist-packages (from huggingface-hub<1.0,>=0.23.0->transformers[torch]) (2023.6.0)\n",
            "Requirement already satisfied: typing-extensions>=3.7.4.3 in /usr/local/lib/python3.10/dist-packages (from huggingface-hub<1.0,>=0.23.0->transformers[torch]) (4.12.2)\n",
            "Requirement already satisfied: sympy in /usr/local/lib/python3.10/dist-packages (from torch->transformers[torch]) (1.12.1)\n",
            "Requirement already satisfied: networkx in /usr/local/lib/python3.10/dist-packages (from torch->transformers[torch]) (3.3)\n",
            "Requirement already satisfied: jinja2 in /usr/local/lib/python3.10/dist-packages (from torch->transformers[torch]) (3.1.4)\n",
            "Collecting nvidia-cuda-nvrtc-cu12==12.1.105 (from torch->transformers[torch])\n",
            "  Using cached nvidia_cuda_nvrtc_cu12-12.1.105-py3-none-manylinux1_x86_64.whl (23.7 MB)\n",
            "Collecting nvidia-cuda-runtime-cu12==12.1.105 (from torch->transformers[torch])\n",
            "  Using cached nvidia_cuda_runtime_cu12-12.1.105-py3-none-manylinux1_x86_64.whl (823 kB)\n",
            "Collecting nvidia-cuda-cupti-cu12==12.1.105 (from torch->transformers[torch])\n",
            "  Using cached nvidia_cuda_cupti_cu12-12.1.105-py3-none-manylinux1_x86_64.whl (14.1 MB)\n",
            "Collecting nvidia-cudnn-cu12==8.9.2.26 (from torch->transformers[torch])\n",
            "  Using cached nvidia_cudnn_cu12-8.9.2.26-py3-none-manylinux1_x86_64.whl (731.7 MB)\n",
            "Collecting nvidia-cublas-cu12==12.1.3.1 (from torch->transformers[torch])\n",
            "  Using cached nvidia_cublas_cu12-12.1.3.1-py3-none-manylinux1_x86_64.whl (410.6 MB)\n",
            "Collecting nvidia-cufft-cu12==11.0.2.54 (from torch->transformers[torch])\n",
            "  Using cached nvidia_cufft_cu12-11.0.2.54-py3-none-manylinux1_x86_64.whl (121.6 MB)\n",
            "Collecting nvidia-curand-cu12==10.3.2.106 (from torch->transformers[torch])\n",
            "  Using cached nvidia_curand_cu12-10.3.2.106-py3-none-manylinux1_x86_64.whl (56.5 MB)\n",
            "Collecting nvidia-cusolver-cu12==11.4.5.107 (from torch->transformers[torch])\n",
            "  Using cached nvidia_cusolver_cu12-11.4.5.107-py3-none-manylinux1_x86_64.whl (124.2 MB)\n",
            "Collecting nvidia-cusparse-cu12==12.1.0.106 (from torch->transformers[torch])\n",
            "  Using cached nvidia_cusparse_cu12-12.1.0.106-py3-none-manylinux1_x86_64.whl (196.0 MB)\n",
            "Collecting nvidia-nccl-cu12==2.20.5 (from torch->transformers[torch])\n",
            "  Using cached nvidia_nccl_cu12-2.20.5-py3-none-manylinux2014_x86_64.whl (176.2 MB)\n",
            "Collecting nvidia-nvtx-cu12==12.1.105 (from torch->transformers[torch])\n",
            "  Using cached nvidia_nvtx_cu12-12.1.105-py3-none-manylinux1_x86_64.whl (99 kB)\n",
            "Requirement already satisfied: triton==2.3.0 in /usr/local/lib/python3.10/dist-packages (from torch->transformers[torch]) (2.3.0)\n",
            "Collecting nvidia-nvjitlink-cu12 (from nvidia-cusolver-cu12==11.4.5.107->torch->transformers[torch])\n",
            "  Downloading nvidia_nvjitlink_cu12-12.5.40-py3-none-manylinux2014_x86_64.whl (21.3 MB)\n",
            "\u001b[2K     \u001b[90m━━━━━━━━━━━━━━━━━━━━━━━━━━━━━━━━━━━━━━━━\u001b[0m \u001b[32m21.3/21.3 MB\u001b[0m \u001b[31m59.9 MB/s\u001b[0m eta \u001b[36m0:00:00\u001b[0m\n",
            "\u001b[?25hRequirement already satisfied: charset-normalizer<4,>=2 in /usr/local/lib/python3.10/dist-packages (from requests->transformers[torch]) (3.3.2)\n",
            "Requirement already satisfied: idna<4,>=2.5 in /usr/local/lib/python3.10/dist-packages (from requests->transformers[torch]) (3.7)\n",
            "Requirement already satisfied: urllib3<3,>=1.21.1 in /usr/local/lib/python3.10/dist-packages (from requests->transformers[torch]) (2.0.7)\n",
            "Requirement already satisfied: certifi>=2017.4.17 in /usr/local/lib/python3.10/dist-packages (from requests->transformers[torch]) (2024.6.2)\n",
            "Requirement already satisfied: MarkupSafe>=2.0 in /usr/local/lib/python3.10/dist-packages (from jinja2->torch->transformers[torch]) (2.1.5)\n",
            "Requirement already satisfied: mpmath<1.4.0,>=1.1.0 in /usr/local/lib/python3.10/dist-packages (from sympy->torch->transformers[torch]) (1.3.0)\n",
            "Installing collected packages: nvidia-nvtx-cu12, nvidia-nvjitlink-cu12, nvidia-nccl-cu12, nvidia-curand-cu12, nvidia-cufft-cu12, nvidia-cuda-runtime-cu12, nvidia-cuda-nvrtc-cu12, nvidia-cuda-cupti-cu12, nvidia-cublas-cu12, nvidia-cusparse-cu12, nvidia-cudnn-cu12, nvidia-cusolver-cu12, accelerate\n",
            "Successfully installed accelerate-0.31.0 nvidia-cublas-cu12-12.1.3.1 nvidia-cuda-cupti-cu12-12.1.105 nvidia-cuda-nvrtc-cu12-12.1.105 nvidia-cuda-runtime-cu12-12.1.105 nvidia-cudnn-cu12-8.9.2.26 nvidia-cufft-cu12-11.0.2.54 nvidia-curand-cu12-10.3.2.106 nvidia-cusolver-cu12-11.4.5.107 nvidia-cusparse-cu12-12.1.0.106 nvidia-nccl-cu12-2.20.5 nvidia-nvjitlink-cu12-12.5.40 nvidia-nvtx-cu12-12.1.105\n"
          ]
        }
      ]
    },
    {
      "cell_type": "code",
      "source": [
        "import pandas as pd\n",
        "from sklearn.feature_extraction.text import TfidfVectorizer\n",
        "from sklearn.model_selection import train_test_split\n",
        "from sklearn.svm import SVC\n",
        "from sklearn.naive_bayes import MultinomialNB, ComplementNB\n",
        "from sklearn.tree import DecisionTreeClassifier\n",
        "from sklearn.ensemble import RandomForestClassifier, VotingClassifier\n",
        "from sklearn.linear_model import LogisticRegression\n",
        "from sklearn.metrics import accuracy_score, f1_score, classification_report\n",
        "import numpy as np\n",
        "from transformers import BertTokenizer, BertForSequenceClassification, ConvBertTokenizer, ConvBertForSequenceClassification\n",
        "import torch\n",
        "from torch.utils.data import DataLoader, Dataset\n",
        "import joblib"
      ],
      "metadata": {
        "id": "qjT6eMgkP_I8"
      },
      "execution_count": null,
      "outputs": []
    },
    {
      "cell_type": "code",
      "source": [
        "# Load your dataset\n",
        "df = pd.read_csv('text_class_sonuc_cikarilmis.csv')  # Adjust the file name/path accordingly\n",
        "new_df = pd.concat([df[df[\"class\"] == 1].sample(400,replace=True),df],axis=0)\n",
        "new_df = pd.concat([df[df[\"class\"] == 2].sample(100,replace=True),df],axis=0)\n",
        "texts = new_df['text'].tolist()\n",
        "labels = new_df['class'].tolist()\n",
        "# texts = df['text'].tolist()\n",
        "# labels = df['class'].tolist()\n",
        "# Convert labels to integers if they are not already\n",
        "labels = [int(label) - 1 for label in labels]\n",
        "\n",
        "# Split the dataset\n",
        "train_texts, test_texts, train_labels, test_labels = train_test_split(texts, labels, test_size=0.1,random_state=42)\n",
        "train_texts, val_texts, train_labels, val_labels = train_test_split(train_texts, train_labels, test_size=0.2,random_state=42)\n",
        "train_val_texts = train_texts\n",
        "train_val_texts.extend(val_texts)\n",
        "train_val_labels = train_labels\n",
        "train_val_labels.extend(val_labels)\n",
        "# Vectorize the text data for traditional classifiers\n",
        "#tfidf = TfidfVectorizer()\n",
        "tfidf = joblib.load(\"/content/drive/MyDrive/text_classifier__voting_clf_tfidf_vectorizer.pkl\")\n",
        "X_train_tfidf = tfidf.fit_transform(train_val_texts)\n",
        "X_test_tfidf = tfidf.transform(test_texts)"
      ],
      "metadata": {
        "id": "N0y_PAizQBb9"
      },
      "execution_count": null,
      "outputs": []
    },
    {
      "cell_type": "code",
      "source": [
        "# Define the base classifiers\n",
        "svc = SVC(probability=True)\n",
        "mnb = MultinomialNB()\n",
        "cnb = ComplementNB()\n",
        "dtc = DecisionTreeClassifier()\n",
        "rfc = RandomForestClassifier()\n",
        "logr = LogisticRegression(max_iter=1000)\n",
        "\n",
        "# Train the base classifiers\n",
        "svc.fit(X_train_tfidf, train_val_labels)\n",
        "mnb.fit(X_train_tfidf, train_val_labels)\n",
        "cnb.fit(X_train_tfidf, train_val_labels)\n",
        "dtc.fit(X_train_tfidf, train_val_labels)\n",
        "rfc.fit(X_train_tfidf, train_val_labels)\n",
        "logr.fit(X_train_tfidf, train_val_labels)"
      ],
      "metadata": {
        "id": "GsIASYdiQEx4"
      },
      "execution_count": null,
      "outputs": []
    },
    {
      "cell_type": "code",
      "source": [
        "# Load BERT model and tokenizer\n",
        "tokenizer = ConvBertTokenizer.from_pretrained(\"dbmdz/convbert-base-turkish-cased\")\n",
        "model = ConvBertForSequenceClassification.from_pretrained(\"/content/drive/MyDrive/text_classifier__dbmdz_convbert__20epoch_0966_AdaBelief_250test\", num_labels=5)\n"
      ],
      "metadata": {
        "id": "q56OFL7QQKVo",
        "colab": {
          "base_uri": "https://localhost:8080/"
        },
        "outputId": "cc91d562-63d3-49f0-9e7b-5aec5e04f85f"
      },
      "execution_count": null,
      "outputs": [
        {
          "output_type": "stream",
          "name": "stderr",
          "text": [
            "/usr/local/lib/python3.10/dist-packages/huggingface_hub/utils/_token.py:89: UserWarning: \n",
            "The secret `HF_TOKEN` does not exist in your Colab secrets.\n",
            "To authenticate with the Hugging Face Hub, create a token in your settings tab (https://huggingface.co/settings/tokens), set it as secret in your Google Colab and restart your session.\n",
            "You will be able to reuse this secret in all of your notebooks.\n",
            "Please note that authentication is recommended but still optional to access public models or datasets.\n",
            "  warnings.warn(\n"
          ]
        }
      ]
    },
    {
      "cell_type": "code",
      "source": [
        "# Tokenize the texts\n",
        "train_encodings = tokenizer(train_texts, truncation=True, padding=True, max_length=256)\n",
        "val_encodings = tokenizer(val_texts, truncation=True, padding=True, max_length=256)\n",
        "test_encodings = tokenizer(test_texts, truncation=True, padding=True, max_length=256)\n",
        "# Create a custom dataset class\n",
        "class Dataset(torch.utils.data.Dataset):\n",
        "    def __init__(self, encodings, labels):\n",
        "        self.encodings = encodings\n",
        "        self.labels = labels\n",
        "\n",
        "    def __getitem__(self, idx):\n",
        "        item = {key: torch.tensor(val[idx], dtype=torch.long) for key, val in self.encodings.items()}\n",
        "        item['labels'] = torch.tensor(self.labels[idx], dtype=torch.long)\n",
        "        return item\n",
        "\n",
        "    def __len__(self):\n",
        "        return len(self.labels)\n",
        "\n",
        "# Create train and validation datasets\n",
        "train_dataset = Dataset(train_encodings, train_labels)\n",
        "val_dataset = Dataset(val_encodings, val_labels)\n",
        "test_dataset = Dataset(test_encodings,test_labels)"
      ],
      "metadata": {
        "id": "opldzaGDZmSd"
      },
      "execution_count": null,
      "outputs": []
    },
    {
      "cell_type": "code",
      "source": [
        "from transformers import Trainer, DataCollator\n",
        "from sklearn.preprocessing import MinMaxScaler\n",
        "trainer_temp = Trainer(\n",
        "    model=model,\n",
        "    tokenizer=tokenizer,\n",
        ")\n",
        "predictions = trainer_temp.predict(test_dataset)\n",
        "#print(predictions)\n",
        "\n",
        "logits = predictions.predictions\n",
        "\n",
        "# Step 3: Convert logits to probabilities (if needed)\n",
        "# This step assumes a classification task with softmax probabilities\n",
        "# Skip this if your task is different and logits don't need to be converted\n",
        "probabilities = np.exp(logits) / np.exp(logits).sum(axis=-1, keepdims=True)\n",
        "\n",
        "# Step 4: Normalize the probabilities\n",
        "scaler = MinMaxScaler()\n",
        "normalized_predictions = scaler.fit_transform(probabilities)\n",
        "\n",
        "# Step 5: Transform to a NumPy array\n",
        "normalized_predictions_array = np.array(normalized_predictions)\n",
        "bert_val_preds = normalized_predictions_array"
      ],
      "metadata": {
        "colab": {
          "base_uri": "https://localhost:8080/",
          "height": 17
        },
        "id": "UUD24HTkXH7F",
        "outputId": "46a15a38-e3ce-4414-c1a8-351e6d3ce480"
      },
      "execution_count": null,
      "outputs": [
        {
          "output_type": "display_data",
          "data": {
            "text/plain": [
              "<IPython.core.display.HTML object>"
            ],
            "text/html": []
          },
          "metadata": {}
        }
      ]
    },
    {
      "cell_type": "code",
      "source": [
        "# Create an ensemble using voting\n",
        "# voting_clf = VotingClassifier(\n",
        "#     estimators=[\n",
        "#         ('svc', svc),\n",
        "#         #('mnb', mnb),\n",
        "#         #('cnb', cnb),\n",
        "#         #('dtc', dtc),\n",
        "#         ('rfc', rfc),\n",
        "#         ('logr', logr)\n",
        "#     ],\n",
        "#     voting='soft'  # Use soft voting for probability-based voting\n",
        "# )\n",
        "voting_clf = joblib.load(\"/content/drive/MyDrive/text_classifier__voting_clf_05_05_weights_with_Adabelief0966_test250_result_0971.pkl\")\n",
        "\n",
        "# Train the ensemble classifier on the training set\n",
        "# Here we use the probabilities to combine with BERT's softmax probabilities\n",
        "voting_clf.fit(X_train_tfidf, train_val_labels)\n",
        "# Get the traditional classifiers' predictions\n",
        "trad_val_preds_proba = voting_clf.predict_proba(X_test_tfidf)"
      ],
      "metadata": {
        "id": "RaCKsH_fcQOA"
      },
      "execution_count": null,
      "outputs": []
    },
    {
      "cell_type": "code",
      "source": [
        "# weight_list = [f1_score(test_labels, np.argmax(svc.predict_proba(X_test_tfidf), axis=1), average='weighted'),\n",
        "#                f1_score(test_labels, np.argmax(logr.predict_proba(X_test_tfidf), axis=1), average='weighted'),\n",
        "#                f1_score(test_labels, np.argmax(rfc.predict_proba(X_test_tfidf), axis=1), average='weighted'),\n",
        "#                f1_score(test_labels, np.argmax(dtc.predict_proba(X_test_tfidf), axis=1), average='weighted'),\n",
        "#                f1_score(test_labels, np.argmax(mnb.predict_proba(X_test_tfidf), axis=1), average='weighted'),\n",
        "#                f1_score(test_labels, np.argmax(cnb.predict_proba(X_test_tfidf), axis=1), average='weighted'),\n",
        "#                f1_score(test_labels, np.argmax(bert_val_preds, axis=1), average='weighted')]\n",
        "# weight_list"
      ],
      "metadata": {
        "id": "keE4uBfzouPT"
      },
      "execution_count": null,
      "outputs": []
    },
    {
      "cell_type": "code",
      "source": [
        "# new_weight_list = [w / sum(weight_list) for w in weight_list]"
      ],
      "metadata": {
        "id": "k5_yAh4vqvAO"
      },
      "execution_count": null,
      "outputs": []
    },
    {
      "cell_type": "code",
      "source": [
        "proba_list = [svc.predict_proba(X_test_tfidf),\n",
        "              logr.predict_proba(X_test_tfidf),\n",
        "              rfc.predict_proba(X_test_tfidf),\n",
        "              #dtc.predict_proba(X_test_tfidf),\n",
        "              #mnb.predict_proba(X_test_tfidf),\n",
        "              #cnb.predict_proba(X_test_tfidf),\n",
        "              bert_val_preds]"
      ],
      "metadata": {
        "id": "PP9nY-Naq7Hn"
      },
      "execution_count": null,
      "outputs": []
    },
    {
      "cell_type": "code",
      "source": [
        "import random\n",
        "from deap import base, creator, tools, algorithms\n",
        "# Define the evaluation function\n",
        "def evaluate(individual):\n",
        "    x1, x2 = individual\n",
        "    coef_list = [x1,x2]\n",
        "    combined_val_preds_proba = (trad_val_preds_proba*x1 + bert_val_preds*x2)\n",
        "    combined_val_preds = np.argmax(combined_val_preds_proba, axis=1)\n",
        "    # combined_test_preds_proba = proba_list[0]*coef_list[0]\n",
        "    # for i in range(1,len(proba_list)):\n",
        "    #   combined_test_preds_proba += proba_list[i]*coef_list[i]\n",
        "    result_f1 = f1_score(test_labels,combined_val_preds,average=\"weighted\")\n",
        "    return (result_f1,)"
      ],
      "metadata": {
        "id": "ofgMoza9hUa2"
      },
      "execution_count": null,
      "outputs": []
    },
    {
      "cell_type": "code",
      "source": [
        "def evaluate_seperate(individual):\n",
        "    x1, x2, x3, x4 = individual\n",
        "    coef_list = [x1,x2,x3,x4]\n",
        "    # combined_val_preds_proba = (trad_val_preds_proba*x1 + bert_val_preds*x2)\n",
        "    # combined_val_preds = np.argmax(combined_val_preds_proba, axis=1)\n",
        "    combined_test_preds_proba = proba_list[0]*coef_list[0]\n",
        "    for i in range(1,len(proba_list)):\n",
        "      combined_test_preds_proba += proba_list[i]*coef_list[i]\n",
        "    result_f1 = f1_score(test_labels,np.argmax(combined_test_preds_proba, axis=1),average=\"weighted\")\n",
        "    return (result_f1,)"
      ],
      "metadata": {
        "id": "5J_nIWxZoTrE"
      },
      "execution_count": null,
      "outputs": []
    },
    {
      "cell_type": "code",
      "source": [
        "# Normalize weights to sum to 1\n",
        "def normalize_weights(individual):\n",
        "    return [x / sum(individual) for x in individual]"
      ],
      "metadata": {
        "id": "XTSQpLmVjigG"
      },
      "execution_count": null,
      "outputs": []
    },
    {
      "cell_type": "code",
      "source": [
        "# Create the fitness and individual classes\n",
        "creator.create(\"FitnessMax\", base.Fitness, weights=(1.0,))\n",
        "creator.create(\"Individual\", list, fitness=creator.FitnessMax)\n",
        "\n",
        "# Initialize the toolbox\n",
        "toolbox = base.Toolbox()\n",
        "\n",
        "# Attribute generator with normalization\n",
        "toolbox.register(\"attr_float\", random.uniform, 0, 1)\n",
        "toolbox.register(\"individual\", tools.initIterate, creator.Individual,\n",
        "                 lambda: normalize_weights([random.uniform(0, 1) for _ in range(4)]))\n",
        "toolbox.register(\"population\", tools.initRepeat, list, toolbox.individual)\n",
        "\n",
        "# Register the evaluation function\n",
        "toolbox.register(\"evaluate\", evaluate_seperate)\n",
        "\n",
        "# Register the genetic operators\n",
        "toolbox.register(\"mate\", tools.cxBlend, alpha=0.5)\n",
        "toolbox.register(\"mutate\", tools.mutGaussian, mu=0, sigma=0.1, indpb=0.2)\n",
        "toolbox.register(\"select\", tools.selTournament, tournsize=3)"
      ],
      "metadata": {
        "id": "dcEnXvxzjiTR"
      },
      "execution_count": null,
      "outputs": []
    },
    {
      "cell_type": "code",
      "source": [
        "import multiprocessing\n",
        "from scipy.optimize import differential_evolution\n",
        "\n",
        "# Genetic Algorithm parameters\n",
        "population_size = 2000\n",
        "generations = 200\n",
        "crossover_probability = 0.7\n",
        "mutation_probability = 0.2\n",
        "\n",
        "# Parallelization setup\n",
        "pool = multiprocessing.Pool()\n",
        "toolbox.register(\"map\", pool.map)\n",
        "\n",
        "# Create the initial population\n",
        "population = toolbox.population(n=population_size)\n",
        "\n",
        "# Apply the genetic algorithm\n",
        "algorithms.eaSimple(population, toolbox, cxpb=crossover_probability, mutpb=mutation_probability,\n",
        "                    ngen=generations, verbose=True)\n",
        "\n",
        "# Close the pool\n",
        "pool.close()\n",
        "pool.join()\n",
        "\n",
        "# Extract the best individual after the optimization\n",
        "best_individual = tools.selBest(population, k=1)[0]\n",
        "print('Best individual:', best_individual)\n",
        "print('Best fitness:', best_individual.fitness.values[0])"
      ],
      "metadata": {
        "colab": {
          "base_uri": "https://localhost:8080/"
        },
        "id": "NP_FdTyojojZ",
        "outputId": "98239067-e3ee-444d-b47b-0dcb6e3fc25f"
      },
      "execution_count": null,
      "outputs": [
        {
          "output_type": "stream",
          "name": "stdout",
          "text": [
            "gen\tnevals\n",
            "0  \t2000  \n",
            "1  \t1552  \n",
            "2  \t1547  \n",
            "3  \t1517  \n",
            "4  \t1540  \n",
            "5  \t1539  \n",
            "6  \t1570  \n",
            "7  \t1542  \n",
            "8  \t1516  \n",
            "9  \t1517  \n",
            "10 \t1468  \n",
            "11 \t1463  \n",
            "12 \t1519  \n",
            "13 \t1488  \n",
            "14 \t1506  \n",
            "15 \t1482  \n",
            "16 \t1512  \n",
            "17 \t1520  \n",
            "18 \t1498  \n",
            "19 \t1542  \n",
            "20 \t1554  \n",
            "21 \t1529  \n",
            "22 \t1536  \n",
            "23 \t1493  \n",
            "24 \t1478  \n",
            "25 \t1505  \n",
            "26 \t1523  \n",
            "27 \t1502  \n",
            "28 \t1499  \n",
            "29 \t1473  \n",
            "30 \t1486  \n",
            "31 \t1518  \n",
            "32 \t1510  \n",
            "33 \t1532  \n",
            "34 \t1499  \n",
            "35 \t1499  \n",
            "36 \t1462  \n",
            "37 \t1508  \n",
            "38 \t1541  \n",
            "39 \t1548  \n",
            "40 \t1516  \n",
            "41 \t1487  \n",
            "42 \t1523  \n",
            "43 \t1513  \n",
            "44 \t1506  \n",
            "45 \t1539  \n",
            "46 \t1538  \n",
            "47 \t1516  \n",
            "48 \t1532  \n",
            "49 \t1534  \n",
            "50 \t1477  \n",
            "51 \t1492  \n",
            "52 \t1502  \n",
            "53 \t1541  \n",
            "54 \t1506  \n",
            "55 \t1491  \n",
            "56 \t1509  \n",
            "57 \t1501  \n",
            "58 \t1577  \n",
            "59 \t1521  \n",
            "60 \t1545  \n",
            "61 \t1547  \n",
            "62 \t1503  \n",
            "63 \t1516  \n",
            "64 \t1521  \n",
            "65 \t1538  \n",
            "66 \t1506  \n",
            "67 \t1509  \n",
            "68 \t1501  \n",
            "69 \t1557  \n",
            "70 \t1513  \n",
            "71 \t1503  \n",
            "72 \t1464  \n",
            "73 \t1601  \n",
            "74 \t1520  \n",
            "75 \t1494  \n",
            "76 \t1531  \n",
            "77 \t1547  \n",
            "78 \t1518  \n",
            "79 \t1509  \n",
            "80 \t1481  \n",
            "81 \t1543  \n",
            "82 \t1543  \n",
            "83 \t1517  \n",
            "84 \t1511  \n",
            "85 \t1520  \n",
            "86 \t1542  \n",
            "87 \t1549  \n",
            "88 \t1527  \n",
            "89 \t1527  \n",
            "90 \t1585  \n",
            "91 \t1500  \n",
            "92 \t1470  \n",
            "93 \t1501  \n",
            "94 \t1573  \n",
            "95 \t1533  \n",
            "96 \t1527  \n",
            "97 \t1518  \n",
            "98 \t1535  \n",
            "99 \t1536  \n",
            "100\t1549  \n",
            "101\t1524  \n",
            "102\t1536  \n",
            "103\t1502  \n",
            "104\t1553  \n",
            "105\t1522  \n",
            "106\t1536  \n",
            "107\t1547  \n",
            "108\t1499  \n",
            "109\t1512  \n",
            "110\t1523  \n",
            "111\t1510  \n",
            "112\t1530  \n",
            "113\t1524  \n",
            "114\t1560  \n",
            "115\t1509  \n",
            "116\t1516  \n",
            "117\t1526  \n",
            "118\t1520  \n",
            "119\t1481  \n",
            "120\t1530  \n",
            "121\t1504  \n",
            "122\t1475  \n",
            "123\t1541  \n",
            "124\t1522  \n",
            "125\t1504  \n",
            "126\t1512  \n",
            "127\t1554  \n",
            "128\t1516  \n",
            "129\t1479  \n",
            "130\t1516  \n",
            "131\t1516  \n",
            "132\t1462  \n",
            "133\t1504  \n",
            "134\t1557  \n",
            "135\t1491  \n",
            "136\t1518  \n",
            "137\t1491  \n",
            "138\t1530  \n",
            "139\t1559  \n",
            "140\t1508  \n",
            "141\t1550  \n",
            "142\t1564  \n",
            "143\t1469  \n",
            "144\t1537  \n",
            "145\t1526  \n",
            "146\t1543  \n",
            "147\t1509  \n",
            "148\t1525  \n",
            "149\t1525  \n",
            "150\t1561  \n",
            "151\t1486  \n",
            "152\t1536  \n",
            "153\t1538  \n",
            "154\t1541  \n",
            "155\t1546  \n",
            "156\t1509  \n",
            "157\t1483  \n",
            "158\t1499  \n",
            "159\t1473  \n",
            "160\t1542  \n",
            "161\t1516  \n",
            "162\t1585  \n",
            "163\t1516  \n",
            "164\t1535  \n",
            "165\t1529  \n",
            "166\t1508  \n",
            "167\t1488  \n",
            "168\t1534  \n",
            "169\t1518  \n",
            "170\t1513  \n",
            "171\t1511  \n",
            "172\t1522  \n",
            "173\t1512  \n",
            "174\t1472  \n",
            "175\t1553  \n",
            "176\t1542  \n",
            "177\t1515  \n",
            "178\t1501  \n",
            "179\t1581  \n",
            "180\t1494  \n",
            "181\t1537  \n",
            "182\t1504  \n",
            "183\t1508  \n",
            "184\t1532  \n",
            "185\t1537  \n",
            "186\t1515  \n",
            "187\t1551  \n",
            "188\t1472  \n",
            "189\t1537  \n",
            "190\t1521  \n",
            "191\t1566  \n",
            "192\t1517  \n",
            "193\t1513  \n",
            "194\t1526  \n",
            "195\t1496  \n",
            "196\t1544  \n",
            "197\t1543  \n",
            "198\t1508  \n",
            "199\t1497  \n",
            "200\t1508  \n",
            "Best individual: [0.4464157807588306, -0.05213796198367167, -0.013697135247614543, 0.5400464728175706]\n",
            "Best fitness: 0.9709895481990386\n"
          ]
        }
      ]
    },
    {
      "cell_type": "code",
      "source": [
        "# Differential Evolution for fine-tuning (optional)\n",
        "bounds = [(0, 1)] * 4  # Weights should be between 0 and 1\n",
        "\n",
        "def objective_function(x):\n",
        "    return -evaluate_seperate(normalize_weights(x))[0]  # scipy minimizes, so we negate the function\n",
        "\n",
        "maxf1 = 0.8542522921277268\n",
        "# Create an initial population for differential evolution\n",
        "init_list = tools.selBest(population,k=20)\n",
        "init_pop = [normalize_weights(ind) for ind in init_list]\n",
        "\n",
        "for i in range(5):\n",
        "  result = differential_evolution(objective_function, bounds, init=init_pop, maxiter=100000)\n",
        "  best_weights_de = normalize_weights(result.x)\n",
        "  if -result.fun > maxf1:\n",
        "    maxf1 = -result.fun\n",
        "    print(\"qwe\")\n",
        "  print('Iteration', i+1)\n",
        "  print('Best individual after DE:', best_weights_de)\n",
        "  print('Best fitness after DE:', -result.fun)"
      ],
      "metadata": {
        "colab": {
          "base_uri": "https://localhost:8080/"
        },
        "id": "qQdZrakZlgnZ",
        "outputId": "84251676-ac30-4da7-e28a-4692a07a91bc"
      },
      "execution_count": null,
      "outputs": [
        {
          "output_type": "stream",
          "name": "stdout",
          "text": [
            "qwe\n",
            "Iteration 1\n",
            "Best individual after DE: [0.35183251502306045, 0.0, 0.09846021661493135, 0.5497072683620081]\n",
            "Best fitness after DE: 0.9709895481990386\n",
            "Iteration 2\n",
            "Best individual after DE: [0.43976270412231716, 0.0, 0.00856076785285679, 0.551676528024826]\n",
            "Best fitness after DE: 0.9709895481990386\n",
            "Iteration 3\n",
            "Best individual after DE: [0.39436362311081685, 0.0, 0.03683476640370416, 0.5688016104854791]\n",
            "Best fitness after DE: 0.9709895481990386\n",
            "Iteration 4\n",
            "Best individual after DE: [0.3964082310765613, 0.0, 0.0367641473773603, 0.5668276215460785]\n",
            "Best fitness after DE: 0.9709895481990386\n",
            "Iteration 5\n",
            "Best individual after DE: [0.37023097484613166, 0.0, 0.05363077196814632, 0.576138253185722]\n",
            "Best fitness after DE: 0.9709895481990386\n"
          ]
        }
      ]
    },
    {
      "cell_type": "code",
      "source": [
        "# combined_val_preds_proba = proba_list[0] * new_weight_list[0]\n",
        "# for i in range(1, len(proba_list)):\n",
        "#     combined_val_preds_proba += proba_list[i] * new_weight_list[i]"
      ],
      "metadata": {
        "id": "XNvr4JaUrMCG"
      },
      "execution_count": null,
      "outputs": []
    },
    {
      "cell_type": "code",
      "source": [
        "from sklearn.metrics import precision_score, recall_score\n",
        "import time"
      ],
      "metadata": {
        "id": "4aBfRRwzsyYB"
      },
      "execution_count": null,
      "outputs": []
    },
    {
      "cell_type": "code",
      "source": [
        "# Combine BERT and traditional classifiers' predictions\n",
        "# For soft voting, we average the probabilities\n",
        "time1 = time.time()\n",
        "combined_val_preds_proba = (trad_val_preds_proba*0.5 + bert_val_preds*0.5)\n",
        "combined_val_preds = np.argmax(combined_val_preds_proba, axis=1)\n",
        "time2 = time.time()\n",
        "runtime = time2-time1\n",
        "\n",
        "# Evaluate the combined ensemble classifier\n",
        "acc = accuracy_score(test_labels, combined_val_preds)\n",
        "f1 = f1_score(test_labels, combined_val_preds, average='weighted')\n",
        "precision = precision_score(test_labels, combined_val_preds, average='weighted')\n",
        "recall = recall_score(test_labels, combined_val_preds, average='weighted')\n",
        "result = {\n",
        "    'Accuracy': acc,\n",
        "    'F1 Score': f1,\n",
        "    'Precision': precision,\n",
        "    'Recall': recall,\n",
        "    \"Runtime\": runtime,\n",
        "}\n",
        "# print(f\"Accuracy: {acc}\")\n",
        "# print(f\"F1 Score: {f1}\")\n",
        "# print(classification_report(test_labels, combined_val_preds,digits=5))\n",
        "print(result)"
      ],
      "metadata": {
        "colab": {
          "base_uri": "https://localhost:8080/"
        },
        "id": "5-aXUN4IN3Kk",
        "outputId": "9734544f-b666-4dcd-f543-71c0b19f3b1b"
      },
      "execution_count": null,
      "outputs": [
        {
          "output_type": "stream",
          "name": "stdout",
          "text": [
            "{'Accuracy': 0.9714285714285714, 'F1 Score': 0.9709895481990386, 'Precision': 0.9709860509860511, 'Recall': 0.9714285714285714, 'Runtime': 0.005927562713623047}\n"
          ]
        }
      ]
    },
    {
      "cell_type": "code",
      "source": [
        "from sklearn.metrics import confusion_matrix\n",
        "import matplotlib.pyplot as plt\n",
        "import seaborn as sns\n",
        "\n",
        "# Compute the confusion matrix\n",
        "conf_matrix = confusion_matrix(test_labels, combined_val_preds)\n",
        "\n",
        "# Print the confusion matrix\n",
        "# print(\"Confusion Matrix:\")\n",
        "# print(conf_matrix/sum(conf_matrix))\n",
        "\n",
        "# Optionally, plot the confusion matrix\n",
        "plt.figure(figsize=(10, 8))\n",
        "sns.heatmap(conf_matrix/sum(conf_matrix), annot=True, cmap='Blues', xticklabels=range(1,6), yticklabels=range(1,6),)\n",
        "plt.xlabel('Predicted')\n",
        "plt.ylabel('True')\n",
        "plt.title('Confusion Matrix')\n",
        "plt.show()"
      ],
      "metadata": {
        "colab": {
          "base_uri": "https://localhost:8080/",
          "height": 718
        },
        "id": "9Ishos0ultLn",
        "outputId": "df8c7107-c76a-422d-974e-923df0b4a6a7"
      },
      "execution_count": null,
      "outputs": [
        {
          "output_type": "display_data",
          "data": {
            "text/plain": [
              "<Figure size 1000x800 with 2 Axes>"
            ],
            "image/png": "[encoded data removed]"
          },
          "metadata": {}
        }
      ]
    },
    {
      "cell_type": "code",
      "source": [
        "import joblib"
      ],
      "metadata": {
        "id": "ULd6RwJMz52Y"
      },
      "execution_count": null,
      "outputs": []
    },
    {
      "cell_type": "code",
      "source": [
        "# Save the ensemble classifier\n",
        "joblib.dump(voting_clf, 'drive/MyDrive/text_classifier__voting_clf_05_05_weights_with_Adabelief0966_test250_result_0971.pkl')\n",
        "\n",
        "# Save the TF-IDF Vectorizer\n",
        "joblib.dump(tfidf, 'drive/MyDrive/text_classifier__voting_clf_tfidf_vectorizer.pkl')"
      ],
      "metadata": {
        "colab": {
          "base_uri": "https://localhost:8080/"
        },
        "id": "qEP9HcxMz4uG",
        "outputId": "cb507b54-8658-4903-a39c-a2c6f899544f"
      },
      "execution_count": null,
      "outputs": [
        {
          "output_type": "execute_result",
          "data": {
            "text/plain": [
              "['drive/MyDrive/text_classifier__voting_clf_tfidf_vectorizer.pkl']"
            ]
          },
          "metadata": {},
          "execution_count": 35
        }
      ]
    },
    {
      "cell_type": "code",
      "source": [
        "import pandas as pd\n",
        "from sklearn.model_selection import train_test_split\n",
        "from tensorflow.keras.preprocessing.text import Tokenizer\n",
        "from tensorflow.keras.preprocessing.sequence import pad_sequences\n",
        "from tensorflow.keras.models import Sequential\n",
        "from tensorflow.keras.layers import Embedding, SimpleRNN, Dense, Dropout\n",
        "from tensorflow.keras.utils import to_categorical\n",
        "\n",
        "# Load your dataset\n",
        "df = pd.read_csv('text_class_sonuc_cikarilmis.csv')  # Adjust the file name/path accordingly\n",
        "texts = df['text'].tolist()\n",
        "labels = df['class'].tolist()\n",
        "\n",
        "# Convert labels to integers if they are not already\n",
        "labels = [int(label)-1 for label in labels]\n",
        "num_labels = 5\n",
        "\n",
        "# Split the dataset\n",
        "train_texts, val_texts, train_labels, val_labels = train_test_split(texts, labels, test_size=0.2, random_state=42)\n",
        "\n",
        "# Tokenize the text\n",
        "max_words = 10000\n",
        "tokenizer = Tokenizer(num_words=max_words)\n",
        "tokenizer.fit_on_texts(train_texts)\n",
        "\n",
        "train_sequences = tokenizer.texts_to_sequences(train_texts)\n",
        "val_sequences = tokenizer.texts_to_sequences(val_texts)\n",
        "\n",
        "# Pad the sequences\n",
        "max_sequence_length = 100\n",
        "train_data = pad_sequences(train_sequences, maxlen=max_sequence_length)\n",
        "val_data = pad_sequences(val_sequences, maxlen=max_sequence_length)\n",
        "\n",
        "# Convert labels to categorical format\n",
        "train_labels = to_categorical(train_labels, num_labels)\n",
        "val_labels = to_categorical(val_labels, num_labels)\n",
        "\n",
        "# Define the RNN model\n",
        "model = Sequential()\n",
        "model.add(Embedding(input_dim=max_words, output_dim=128, input_length=max_sequence_length))\n",
        "model.add(SimpleRNN(128, return_sequences=False))\n",
        "model.add(Dropout(0.5))\n",
        "model.add(Dense(128, activation='relu'))\n",
        "model.add(Dropout(0.5))\n",
        "model.add(Dense(num_labels, activation='softmax'))\n",
        "\n",
        "import tensorflow as tf\n",
        "from tensorflow.keras import backend as K\n",
        "\n",
        "def f1_score(y_true, y_pred):\n",
        "    def recall(y_true, y_pred):\n",
        "        true_positives = K.sum(K.round(K.clip(y_true * y_pred, 0, 1)))\n",
        "        possible_positives = K.sum(K.round(K.clip(y_true, 0, 1)))\n",
        "        recall = true_positives / (possible_positives + K.epsilon())\n",
        "        return recall\n",
        "\n",
        "    def precision(y_true, y_pred):\n",
        "        true_positives = K.sum(K.round(K.clip(y_true * y_pred, 0, 1)))\n",
        "        predicted_positives = K.sum(K.round(K.clip(y_pred, 0, 1)))\n",
        "        precision = true_positives / (predicted_positives + K.epsilon())\n",
        "        return precision\n",
        "\n",
        "    precision = precision(y_true, y_pred)\n",
        "    recall = recall(y_true, y_pred)\n",
        "    f1 = 2 * ((precision * recall) / (precision + recall + K.epsilon()))\n",
        "    return f1\n",
        "\n",
        "\n",
        "\n",
        "# Compile the model\n",
        "model.compile(optimizer='adam', loss='categorical_crossentropy', metrics=[f1_score])\n",
        "\n",
        "# Train the model\n",
        "history = model.fit(train_data, train_labels, epochs=10, batch_size=32, validation_data=(val_data, val_labels))\n",
        "\n",
        "# Evaluate the model\n",
        "val_loss, val_f1_score = model.evaluate(val_data, val_labels)\n",
        "print(f'Validation Loss: {val_loss}')\n",
        "print(f'Validation F1 Score: {val_f1_score}')\n",
        "\n"
      ],
      "metadata": {
        "colab": {
          "base_uri": "https://localhost:8080/"
        },
        "id": "nqIdIZaPqnYi",
        "outputId": "9296d6a7-0797-4f37-ed70-001c12d960e6"
      },
      "execution_count": null,
      "outputs": [
        {
          "output_type": "stream",
          "name": "stdout",
          "text": [
            "Epoch 1/10\n",
            "50/50 [==============================] - 14s 204ms/step - loss: 1.5450 - f1_score: 0.0127 - val_loss: 1.3989 - val_f1_score: 0.0233\n",
            "Epoch 2/10\n",
            "50/50 [==============================] - 7s 142ms/step - loss: 1.2928 - f1_score: 0.1750 - val_loss: 1.2368 - val_f1_score: 0.2199\n",
            "Epoch 3/10\n",
            "50/50 [==============================] - 5s 94ms/step - loss: 0.9191 - f1_score: 0.5785 - val_loss: 0.9717 - val_f1_score: 0.6351\n",
            "Epoch 4/10\n",
            "50/50 [==============================] - 5s 107ms/step - loss: 0.5613 - f1_score: 0.8042 - val_loss: 0.7327 - val_f1_score: 0.7387\n",
            "Epoch 5/10\n",
            "50/50 [==============================] - 5s 102ms/step - loss: 0.3761 - f1_score: 0.8814 - val_loss: 0.8120 - val_f1_score: 0.7077\n",
            "Epoch 6/10\n",
            "50/50 [==============================] - 4s 79ms/step - loss: 0.2888 - f1_score: 0.9038 - val_loss: 0.6603 - val_f1_score: 0.7877\n",
            "Epoch 7/10\n",
            "50/50 [==============================] - 5s 106ms/step - loss: 0.1974 - f1_score: 0.9362 - val_loss: 0.7214 - val_f1_score: 0.7756\n",
            "Epoch 8/10\n",
            "50/50 [==============================] - 4s 74ms/step - loss: 0.2124 - f1_score: 0.9331 - val_loss: 0.7732 - val_f1_score: 0.7555\n",
            "Epoch 9/10\n",
            "50/50 [==============================] - 4s 74ms/step - loss: 0.1752 - f1_score: 0.9467 - val_loss: 0.7989 - val_f1_score: 0.7790\n",
            "Epoch 10/10\n",
            "50/50 [==============================] - 4s 89ms/step - loss: 0.1421 - f1_score: 0.9557 - val_loss: 0.9779 - val_f1_score: 0.7576\n",
            "13/13 [==============================] - 0s 9ms/step - loss: 0.9779 - f1_score: 0.7576\n",
            "Validation Loss: 0.977885365486145\n",
            "Validation F1 Score: 0.7576205730438232\n"
          ]
        }
      ]
    },
    {
      "cell_type": "code",
      "source": [
        "import matplotlib.pyplot as plt\n",
        "\n",
        "# Assuming `history` is the output of the model.fit() method\n",
        "\n",
        "# Plot training & validation F1 score values\n",
        "plt.figure(figsize=(12, 5))\n",
        "\n",
        "plt.subplot(1, 2, 1)\n",
        "plt.plot(history.history['f1_score'])\n",
        "plt.plot(history.history['val_f1_score'])\n",
        "plt.title('Model F1 Score')\n",
        "plt.xlabel('Epoch')\n",
        "plt.ylabel('F1 Score')\n",
        "plt.legend(['Train', 'Validation'], loc='upper left')\n",
        "\n",
        "# Plot training & validation loss values\n",
        "plt.subplot(1, 2, 2)\n",
        "plt.plot(history.history['loss'])\n",
        "plt.plot(history.history['val_loss'])\n",
        "plt.title('Model loss')\n",
        "plt.xlabel('Epoch')\n",
        "plt.ylabel('Loss')\n",
        "plt.legend(['Train', 'Validation'], loc='upper left')\n",
        "\n",
        "plt.show()\n"
      ],
      "metadata": {
        "colab": {
          "base_uri": "https://localhost:8080/",
          "height": 373
        },
        "id": "g0soaHmBrtHi",
        "outputId": "93a8064b-6f3f-4981-8fe4-ea41369d18bb"
      },
      "execution_count": null,
      "outputs": [
        {
          "output_type": "display_data",
          "data": {
            "text/plain": [
              "<Figure size 1200x500 with 2 Axes>"
            ],
            "image/png": "[encoded data removed]"
          },
          "metadata": {}
        }
      ]
    }
  ]
}